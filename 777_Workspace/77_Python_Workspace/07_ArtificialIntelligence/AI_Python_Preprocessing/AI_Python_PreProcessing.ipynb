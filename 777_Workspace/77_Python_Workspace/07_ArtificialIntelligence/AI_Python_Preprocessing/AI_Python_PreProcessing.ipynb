{
 "cells": [
  {
   "cell_type": "markdown",
   "metadata": {},
   "source": [
    "# 1. Data capture"
   ]
  },
  {
   "cell_type": "markdown",
   "metadata": {},
   "source": [
    "## 1.1 File capture"
   ]
  },
  {
   "cell_type": "markdown",
   "metadata": {},
   "source": [
    "## 1.2 Capture from Web"
   ]
  },
  {
   "cell_type": "code",
   "execution_count": 13,
   "metadata": {},
   "outputs": [],
   "source": [
    "import requests\n",
    "import pandas as pd\n",
    "import numpy as np"
   ]
  },
  {
   "cell_type": "code",
   "execution_count": 16,
   "metadata": {},
   "outputs": [
    {
     "data": {
      "text/plain": [
       "0    ACCOUNTING\n",
       "1      RESEARCH\n",
       "2         SALES\n",
       "3    OPERATIONS\n",
       "Name: dname, dtype: object"
      ]
     },
     "execution_count": 16,
     "metadata": {},
     "output_type": "execute_result"
    }
   ],
   "source": [
    "data = pd.read_json(\"http://j.finfra.com/_file/dept.json\")\n",
    "data.dname"
   ]
  },
  {
   "cell_type": "code",
   "execution_count": 17,
   "metadata": {},
   "outputs": [],
   "source": [
    "response = requests.get(\"http://j.finfra.com/_file/dept.json\")\n",
    "response = response.text"
   ]
  },
  {
   "cell_type": "code",
   "execution_count": 18,
   "metadata": {},
   "outputs": [
    {
     "data": {
      "text/plain": [
       "[{'deptno': 10, 'dname': 'ACCOUNTING', 'loc': 'NEW YORK'},\n",
       " {'deptno': 20, 'dname': 'RESEARCH', 'loc': 'DALLAS'},\n",
       " {'deptno': 30, 'dname': 'SALES', 'loc': 'CHICAGO'},\n",
       " {'deptno': 40, 'dname': 'OPERATIONS', 'loc': 'BOSTON'}]"
      ]
     },
     "execution_count": 18,
     "metadata": {},
     "output_type": "execute_result"
    }
   ],
   "source": [
    "# eval 함수를 통해 str데이터를 dic로 변환 시킨다\n",
    "data = eval(response)\n",
    "data"
   ]
  },
  {
   "cell_type": "markdown",
   "metadata": {},
   "source": [
    "### Encoder & Decoder\n",
    "- 범주형 데이터에 대해서 컴퓨터가 인지 할 수 있도록 데이터 변환 처리"
   ]
  },
  {
   "cell_type": "code",
   "execution_count": 4,
   "metadata": {},
   "outputs": [
    {
     "name": "stderr",
     "output_type": "stream",
     "text": [
      "/usr/lib/python3.6/importlib/_bootstrap.py:219: RuntimeWarning: numpy.ufunc size changed, may indicate binary incompatibility. Expected 192 from C header, got 216 from PyObject\n",
      "  return f(*args, **kwds)\n"
     ]
    }
   ],
   "source": [
    "from sklearn.datasets import load_iris\n",
    "import numpy as np\n",
    "import pandas as pd"
   ]
  },
  {
   "cell_type": "code",
   "execution_count": 7,
   "metadata": {},
   "outputs": [],
   "source": [
    "iris = load_iris()\n",
    "value = set(iris.target_names)"
   ]
  },
  {
   "cell_type": "code",
   "execution_count": 8,
   "metadata": {},
   "outputs": [
    {
     "name": "stdout",
     "output_type": "stream",
     "text": [
      "{0: 'versicolor', 1: 'virginica', 2: 'setosa'} {'versicolor': 0, 'virginica': 1, 'setosa': 2}\n"
     ]
    }
   ],
   "source": [
    "dec = {i : j for i,j in enumerate(value)}\n",
    "enc = {j : i for i,j in enumerate(value)}\n",
    "print(dec, enc)"
   ]
  },
  {
   "cell_type": "code",
   "execution_count": 9,
   "metadata": {},
   "outputs": [
    {
     "name": "stdout",
     "output_type": "stream",
     "text": [
      "versicolor\n",
      "setosa\n",
      "virginica\n",
      "setosa\n",
      "setosa\n",
      "virginica\n"
     ]
    }
   ],
   "source": [
    "data = [0,2,1,2,2,1]\n",
    "for i in data:\n",
    "    print(dec[i])"
   ]
  },
  {
   "cell_type": "code",
   "execution_count": 1,
   "metadata": {},
   "outputs": [
    {
     "ename": "SyntaxError",
     "evalue": "invalid syntax (<ipython-input-1-ff1f7f17d150>, line 2)",
     "output_type": "error",
     "traceback": [
      "\u001b[0;36m  File \u001b[0;32m\"<ipython-input-1-ff1f7f17d150>\"\u001b[0;36m, line \u001b[0;32m2\u001b[0m\n\u001b[0;31m    - 모수적 분석을 할 때 사용\u001b[0m\n\u001b[0m            ^\u001b[0m\n\u001b[0;31mSyntaxError\u001b[0m\u001b[0;31m:\u001b[0m invalid syntax\n"
     ]
    }
   ],
   "source": [
    "### Scale\n",
    "- 모수적 분석을 할 때 사용\n",
    "\n",
    "### Normalization\n",
    "- 값을 고르게 분포"
   ]
  },
  {
   "cell_type": "code",
   "execution_count": 2,
   "metadata": {},
   "outputs": [
    {
     "ename": "SyntaxError",
     "evalue": "invalid syntax (<ipython-input-2-475b20ec07a3>, line 1)",
     "output_type": "error",
     "traceback": [
      "\u001b[0;36m  File \u001b[0;32m\"<ipython-input-2-475b20ec07a3>\"\u001b[0;36m, line \u001b[0;32m1\u001b[0m\n\u001b[0;31m    1. TraingSet, TestSet으로 분류 보통, 7:3으로 나눈다\u001b[0m\n\u001b[0m               ^\u001b[0m\n\u001b[0;31mSyntaxError\u001b[0m\u001b[0;31m:\u001b[0m invalid syntax\n"
     ]
    }
   ],
   "source": [
    "1. TraingSet, TestSet으로 분류 보통, 7:3으로 나눈다\n",
    "2. 해당 데이터를 통해 모델을 만든다.\n",
    "3. 해당 값을 통해 Precision(정밀도, 모델의 트루값), Recall(재현율, 실제 Positive)값을 그리면 ROC Curver가 나온다"
   ]
  },
  {
   "cell_type": "code",
   "execution_count": null,
   "metadata": {},
   "outputs": [],
   "source": []
  }
 ],
 "metadata": {
  "kernelspec": {
   "display_name": "Python 3",
   "language": "python",
   "name": "python3"
  },
  "language_info": {
   "codemirror_mode": {
    "name": "ipython",
    "version": 3
   },
   "file_extension": ".py",
   "mimetype": "text/x-python",
   "name": "python",
   "nbconvert_exporter": "python",
   "pygments_lexer": "ipython3",
   "version": "3.7.1"
  }
 },
 "nbformat": 4,
 "nbformat_minor": 4
}
