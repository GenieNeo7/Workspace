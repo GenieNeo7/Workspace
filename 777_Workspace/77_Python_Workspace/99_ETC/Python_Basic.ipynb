{
 "cells": [
  {
   "cell_type": "markdown",
   "metadata": {},
   "source": [
    "# 1. Basic of Python\n",
    "- 0, Null, Nan은 다르다. Null은 값이 미입력, NaN은 Not avaiable \n",
    "- import/dir/help의 조합을 통해 라이브러리 및 함수를 찾아서 사용한다"
   ]
  },
  {
   "cell_type": "markdown",
   "metadata": {},
   "source": [
    "## 1.1 Function"
   ]
  },
  {
   "cell_type": "markdown",
   "metadata": {},
   "source": [
    "### 1.1.1 Print\n"
   ]
  },
  {
   "cell_type": "code",
   "execution_count": 38,
   "metadata": {},
   "outputs": [
    {
     "name": "stdout",
     "output_type": "stream",
     "text": [
      "Hello neo\n",
      "Hi, steve\n",
      "Hi, steve\n"
     ]
    }
   ],
   "source": [
    "name =\"Neo\"\n",
    "# 기본 프린트\n",
    "print('Hello neo')\n",
    "# format 사용\n",
    "print(\"Hi, {}\".format(a))\n",
    "# f\"data\" 사용\n",
    "print(f\"Hi, {a}\")"
   ]
  },
  {
   "cell_type": "code",
   "execution_count": 29,
   "metadata": {},
   "outputs": [],
   "source": [
    "dic = dict({\"id\": \"1\" , \"data\":\"aaa\", \"vale\":\"ssssss\"})"
   ]
  },
  {
   "cell_type": "code",
   "execution_count": 33,
   "metadata": {},
   "outputs": [
    {
     "name": "stdout",
     "output_type": "stream",
     "text": [
      " AICentroPreLab   Python_Basic.ipynb  'Untitled Folder'\n",
      " PythonLibTest\t  README.md\n"
     ]
    }
   ],
   "source": [
    "!mv \"Untitled Folder\" \"AI_PythonPreprocessing\""
   ]
  },
  {
   "cell_type": "markdown",
   "metadata": {},
   "source": [
    "## 1.2 DataType\n",
    "- set을 사용하면 중복 데이터 제거 가능"
   ]
  }
 ],
 "metadata": {
  "kernelspec": {
   "display_name": "Python 3",
   "language": "python",
   "name": "python3"
  },
  "language_info": {
   "codemirror_mode": {
    "name": "ipython",
    "version": 3
   },
   "file_extension": ".py",
   "mimetype": "text/x-python",
   "name": "python",
   "nbconvert_exporter": "python",
   "pygments_lexer": "ipython3",
   "version": "3.6.8"
  }
 },
 "nbformat": 4,
 "nbformat_minor": 4
}
