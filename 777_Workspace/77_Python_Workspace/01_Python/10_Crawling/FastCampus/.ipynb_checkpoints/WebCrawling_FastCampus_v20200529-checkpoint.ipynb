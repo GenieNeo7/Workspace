{
 "cells": [
  {
   "cell_type": "code",
   "execution_count": 10,
   "metadata": {},
   "outputs": [],
   "source": [
    "import io, os\n",
    "import sys\n",
    "import pyautogui\n",
    "\n",
    "from selenium import webdriver\n",
    "from selenium.webdriver.common.by import By\n",
    "from selenium.webdriver.support.ui import WebDriverWait\n",
    "from selenium.webdriver.support import expected_conditions as EC\n",
    "import os\n",
    "import json\n",
    "import requests\n",
    "import time\n",
    "from bs4 import BeautifulSoup"
   ]
  },
  {
   "cell_type": "code",
   "execution_count": 11,
   "metadata": {},
   "outputs": [
    {
     "data": {
      "text/plain": [
       "['.ipynb_checkpoints',\n",
       " 'fastcampus_id.txt',\n",
       " 'test.txt',\n",
       " 'WebCrawling_FastCampus_v20200529.ipynb']"
      ]
     },
     "execution_count": 11,
     "metadata": {},
     "output_type": "execute_result"
    }
   ],
   "source": [
    "os.listdir(\"d:/PythonTest/WebCrawling/FastCampus/\")"
   ]
  },
  {
   "cell_type": "code",
   "execution_count": 12,
   "metadata": {},
   "outputs": [],
   "source": [
    "ids = open(\"fastcampus_id.txt\", 'r')"
   ]
  },
  {
   "cell_type": "code",
   "execution_count": 13,
   "metadata": {},
   "outputs": [],
   "source": [
    "ids_data = ids.read()"
   ]
  },
  {
   "cell_type": "code",
   "execution_count": 14,
   "metadata": {},
   "outputs": [],
   "source": [
    "# ids_data = ids_data.replace(',', '/n')\n",
    "ids_data = ids_data.strip()\n",
    "ids_data_list = list(ids_data)\n",
    "\n",
    "val1 = 0\n",
    "prevIdx = 0\n",
    "id_list = list()"
   ]
  },
  {
   "cell_type": "code",
   "execution_count": 15,
   "metadata": {},
   "outputs": [],
   "source": [
    "for idx, i in enumerate(ids_data_list):\n",
    "    if(i == '@'):\n",
    "        if(prevIdx == 0):\n",
    "            id_list.append(ids_data[prevIdx:idx+7])\n",
    "#             print(val1, prevIdx, idx, ids_data[prevIdx:idx+7])\n",
    "        else:\n",
    "            id_list.append(ids_data[prevIdx+9:idx+7])\n",
    "#             print(val1, prevIdx, idx, ids_data[prevIdx+9:idx+7])\n",
    "        prevIdx = idx"
   ]
  },
  {
   "cell_type": "code",
   "execution_count": 16,
   "metadata": {},
   "outputs": [
    {
     "name": "stdout",
     "output_type": "stream",
     "text": [
      "ahsung.woo@kt.com\n",
      "29\n"
     ]
    }
   ],
   "source": [
    "print(id_list[29])\n",
    "for i,j in enumerate(id_list):\n",
    "    if(j == 'ahsung.woo@kt.com'):\n",
    "        print(i)\n",
    "    else:\n",
    "        pass\n",
    "password = '12345678'"
   ]
  },
  {
   "cell_type": "code",
   "execution_count": 30,
   "metadata": {
    "scrolled": true
   },
   "outputs": [],
   "source": [
    "def getInfo(id, password, retry = 0):\n",
    "    URL = 'https://auth.fastcampus.co.kr/sign-in?client_id=fc%3Aclient%3Ab2e&response_type=token&redirect_uri=https%3A%2F%2Fbusiness.fastcampus.co.kr%2F&scope=b2e'\n",
    "    try:\n",
    "        driver = get_driver()\n",
    "        driver.get(URL)\n",
    "        login(driver, id, password)\n",
    "        time.sleep(5)\n",
    "        driver.get(\"https://business.fastcampus.co.kr/#\")\n",
    "        soup = BeautifulSoup(driver.page_source, 'html')\n",
    "        title = soup.find('p',  {\"class\": \"fcb2e-curation-list-item__title\"})\n",
    "        if((title is None) and retry == 0):\n",
    "            getInfo(id, password, 1)\n",
    "            print('retry is required and will be generated', id)\n",
    "#         print(title.text)\n",
    "#         html = driver.get(r'https://business.fastcampus.co.kr/#')\n",
    "#         print(html)\n",
    "    except Exception as e:\n",
    "        print(str(e))\n",
    "    else:\n",
    "        pass\n",
    "#         print(\"Main process is done.\")\n",
    "    finally:\n",
    "        os.system(\"Pause\")\n",
    "        driver.quit()\n",
    "    return title\n",
    "\n",
    "def login(driver, id, pw):\n",
    "    # element = driver.find_element_by_css_selector('#id') \n",
    "    element = WebDriverWait(driver, 1).until(\n",
    "        EC.presence_of_element_located((By.CSS_SELECTOR, \"#user-email\"))\n",
    "    )\n",
    "    element.send_keys(id)\n",
    " \n",
    "    element = WebDriverWait(driver, 1).until(\n",
    "        EC.presence_of_element_located((By.CSS_SELECTOR, \"#user-password\"))\n",
    "    )\n",
    "    element.send_keys(pw)\n",
    "    \n",
    "    element = driver.find_element_by_class_name('btn.btn--md.btn--wide')\n",
    "    element.click()\n",
    "    \n",
    "    return False\n",
    "\n",
    "def get_driver():\n",
    "    driver = webdriver.Chrome(r'C:\\chromedriver.exe')\n",
    "    driver.implicitly_wait(1)\n",
    " \n",
    "    return driver\n",
    "\n"
   ]
  },
  {
   "cell_type": "code",
   "execution_count": 55,
   "metadata": {},
   "outputs": [],
   "source": [
    "timeInterval = '300'\n",
    "retryCount = 20\n",
    "\n",
    "for i in range(0,retryCount):\n",
    "    driver = get_driver()\n",
    "    driver.get(\"http://business.fastcampus.co.kr/\")\n",
    "    login(driver, \"kwanghaenglee@kt.com\", password)\n",
    "    time.sleep(3)\n",
    "    driver.get(\"https://business.fastcampus.co.kr/#\")\n",
    "    # # soup = BeautifulSoup(driver.page_source, 'html')\n",
    "    # time.sleep(1)\n",
    "    element2 = driver.find_elements_by_tag_name('img')\n",
    "    for i in element2:\n",
    "        i.click()\n",
    "    time.sleep(7)\n",
    "    pyautogui.moveTo(350, 350)\n",
    "    pyautogui.click()\n",
    "    element3 = driver.find_elements_by_tag_name('iframe')\n",
    "    \n",
    "# for i in element3:\n",
    "#     driver.switch_to.frame(i) \n",
    "#     element = driver.find_elements_by_class_name('fco-kollus-video__viewer')\n",
    "#     element.click()\n",
    "    \n",
    "# driver.implicitly_wait(20) \n",
    "# driver.switch_to.frame(0) \n",
    "# element3 = driver.find_elements_by_tag_name('iframe')\n",
    "# print(len(element3))\n",
    "\n",
    "# data-v-4b2a33e8\n",
    "# screenWidth, screenHeight = pyautogui.size()\n",
    "# currentMouseX, currentMouseY = pyautogui.position()\n",
    "# time.sleep(5)\n",
    "# pyautogui.moveTo(250, 450)\n",
    "# pyautogui.click()\n",
    "\n",
    "# element2 = driver.find_elements_by_class_name('fco-confirm-modal__footer__agree')\n",
    "# element2.click()\n",
    "\n",
    "# time.sleep(10)\n",
    "# pyautogui.moveTo(350, 350)\n",
    "# pyautogui.click()"
   ]
  },
  {
   "cell_type": "code",
   "execution_count": null,
   "metadata": {},
   "outputs": [],
   "source": [
    "help(driver)"
   ]
  },
  {
   "cell_type": "code",
   "execution_count": null,
   "metadata": {},
   "outputs": [],
   "source": []
  },
  {
   "cell_type": "code",
   "execution_count": null,
   "metadata": {},
   "outputs": [],
   "source": []
  }
 ],
 "metadata": {
  "kernelspec": {
   "display_name": "Python 3",
   "language": "python",
   "name": "python3"
  },
  "language_info": {
   "codemirror_mode": {
    "name": "ipython",
    "version": 3
   },
   "file_extension": ".py",
   "mimetype": "text/x-python",
   "name": "python",
   "nbconvert_exporter": "python",
   "pygments_lexer": "ipython3",
   "version": "3.7.6"
  }
 },
 "nbformat": 4,
 "nbformat_minor": 2
}
