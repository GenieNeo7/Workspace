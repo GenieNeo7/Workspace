{
 "cells": [
  {
   "cell_type": "code",
   "execution_count": 17,
   "metadata": {},
   "outputs": [],
   "source": [
    "import requests\n",
    "from bs4 import BeautifulSoup"
   ]
  },
  {
   "cell_type": "code",
   "execution_count": 18,
   "metadata": {},
   "outputs": [],
   "source": [
    "login_Info = {\n",
    "    \"lang\": \"ko\",\n",
    "    \"loginName\": \"82022282\",\n",
    "    \"password\": \"aceNEO7$12\"\n",
    "}\n",
    "\n",
    "serachTransactionData = {\n",
    "'unitSize': \"20\",\n",
    "'startDate': \"202004210000\",\n",
    "'endDate': \"202004221754\",\n",
    "'customValue': \"20113GS9509529N\",\n",
    "'selectJob': \"4\",\n",
    "'customKey': \"OrderNumber\",\n",
    "'currentPage': \"1\",\n",
    "'errorOnly': \"\",\n",
    "'notBizError': \"\"\n",
    "}\n",
    "\n",
    "\n",
    "header = {\n",
    "'Content-Type': 'application/json; charset=\"UTF-8\"'\n",
    "}\n",
    "\n",
    "mainURL = 'http://10.217.231.56/resource/websquare/websquare.do?w2xPath=%2Fresource%2Findex.xml'\n",
    "login_URL = 'http://10.217.231.56/management/user/login.json'\n",
    "searchTransactionURL = 'https://sbgmsoss.kt.com/monitoring/transactlog/searchTransactionLog.json'"
   ]
  },
  {
   "cell_type": "code",
   "execution_count": 38,
   "metadata": {},
   "outputs": [
    {
     "name": "stdout",
     "output_type": "stream",
     "text": [
      "<Response [200]>\n",
      "200\n",
      "{\"pwdChgDt\":\"\"}\n",
      "PHAROSVISITOR=00006f2d0171a1208c811d8e0ad9e75c; HttpOnly, JSESSIONID=BJ-4jh5DGu3yKRSB4CdMiQ__.gmsSvr21; Path=/; HttpOnly\n",
      "<Response [200]>\n",
      "200\n",
      "<class 'dict'>\n"
     ]
    }
   ],
   "source": [
    "with requests.Session() as s:\n",
    "    login_req = s.post(login_URL, json = login_Info, headers = header)\n",
    "    print(login_req)\n",
    "    print(login_req.status_code)\n",
    "    print(login_req.text)\n",
    "    \n",
    "    if(header['Cookie'] == None): \n",
    "        cookieJar = login_req.headers['Set-Cookie']\n",
    "        header['Cookie'] = cookieJar\n",
    "    else: print(header['Cookie'])\n",
    "    \n",
    "    searchTransacition = s.post(searchTransactionURL, json = serachTransactionData, headers = header)\n",
    "    print(searchTransacition)\n",
    "    print(searchTransacition.status_code)\n",
    "    response = searchTransacition.json()\n",
    "    print(type(response))\n",
    "    \n",
    "#     for v, i in response.items():\n",
    "#         print(v, \"value is \", i)"
   ]
  },
  {
   "cell_type": "code",
   "execution_count": 48,
   "metadata": {},
   "outputs": [
    {
     "name": "stdout",
     "output_type": "stream",
     "text": [
      "<class 'list'>\n"
     ]
    }
   ],
   "source": [
    "transaction_list = response.get('list')\n",
    "print(type(list))"
   ]
  },
  {
   "cell_type": "code",
   "execution_count": 57,
   "metadata": {},
   "outputs": [
    {
     "data": {
      "text/plain": [
       "{'errorCode': '',\n",
       " 'errorMessage': '',\n",
       " 'unitSize': 10,\n",
       " 'currentPage': 1,\n",
       " 'lang': '',\n",
       " 'createdBy': '',\n",
       " 'createdTimestamp': '',\n",
       " 'updatedBy': '',\n",
       " 'updatedTimeStamp': '',\n",
       " 'searchType': '',\n",
       " 'loginIp': '',\n",
       " 'cretPgmId': '',\n",
       " 'chgPgmId': '',\n",
       " 'csrfToken': None,\n",
       " 'gemmsTransLogId': '27455997',\n",
       " 'gemmsTransErrLogId': '',\n",
       " 'systeId': '',\n",
       " 'transLogType': 'SUCCESS',\n",
       " 'serviceName': '',\n",
       " 'transUniqueId': '221704053564922157GPNAMOVE-ADD',\n",
       " 'transId': '',\n",
       " 'correlationId': '',\n",
       " 'transSeqNo': '',\n",
       " 'transAuditType': '',\n",
       " 'transMsgOrigin': '',\n",
       " 'transSourceSysId': '',\n",
       " 'transTargetSysId': '',\n",
       " 'transTimestamp': '22-APR-20 17:04:05:378',\n",
       " 'transCustomName1': '',\n",
       " 'transCustomValue1': '',\n",
       " 'transCustomName2': '',\n",
       " 'transCustomValue2': '',\n",
       " 'transCustomName3': '',\n",
       " 'transCustomValue3': '',\n",
       " 'interfaceId': 'GSMF_GPNA_OAS0015',\n",
       " 'serviceInstance': '',\n",
       " 'payloadFileReference': '',\n",
       " 'loggevel': '',\n",
       " 'transErrorDesc': '',\n",
       " 'transErrorCode': '',\n",
       " 'transResubmitStatus': '',\n",
       " 'transResubmitCount': '',\n",
       " 'transSenderResourceTypCode': '',\n",
       " 'transSenderResourceId': '',\n",
       " 'transSenderMessageId': '',\n",
       " 'serverIp': '',\n",
       " 'startDate': '',\n",
       " 'endDate': '',\n",
       " 'batchName': '',\n",
       " 'selectJob': '',\n",
       " 'transErrorType': '',\n",
       " 'severity': '',\n",
       " 'payloadXmlContent': '',\n",
       " 'countTransUniqueId': '',\n",
       " 'resubmitCount': '',\n",
       " 'resubmitStatus': '',\n",
       " 'port': '',\n",
       " 'payloadFileReferenceShort': '',\n",
       " 'returnCode': '',\n",
       " 'returnMsg': '',\n",
       " 'targetSystem': '',\n",
       " 'resubmitTimestamp': None,\n",
       " 'routeSeq': None,\n",
       " 'errorOnly': '',\n",
       " 'notBizError': '',\n",
       " 'customKey': '',\n",
       " 'customValue': '',\n",
       " 'pattern': 'Async-Sync',\n",
       " 'gemmsInbndRqtDt': '',\n",
       " 'gemmsOtbndRqtDt': '',\n",
       " 'gemmsOtbndRspnDt': '',\n",
       " 'gemmsInbndRspnDt': '',\n",
       " 'responseTime': '',\n",
       " 'logInstance': '',\n",
       " 'status': '',\n",
       " 'moduleId': '',\n",
       " 'paramInbndRqtDt': '',\n",
       " 'paramOtbndRqtDt': '',\n",
       " 'paramOtbndRspnDt': '',\n",
       " 'paramInbndRspnDt': '',\n",
       " 'viewPayloadPropertie': '',\n",
       " 'successYn': '',\n",
       " 'totalRouteCount': '',\n",
       " 'errorTotalCount': '',\n",
       " 'errorCurrentPage': ''}"
      ]
     },
     "execution_count": 57,
     "metadata": {},
     "output_type": "execute_result"
    }
   ],
   "source": [
    "transaction_list[2]"
   ]
  },
  {
   "cell_type": "code",
   "execution_count": null,
   "metadata": {},
   "outputs": [],
   "source": []
  }
 ],
 "metadata": {
  "kernelspec": {
   "display_name": "Python 3",
   "language": "python",
   "name": "python3"
  },
  "language_info": {
   "codemirror_mode": {
    "name": "ipython",
    "version": 3
   },
   "file_extension": ".py",
   "mimetype": "text/x-python",
   "name": "python",
   "nbconvert_exporter": "python",
   "pygments_lexer": "ipython3",
   "version": "3.7.1"
  }
 },
 "nbformat": 4,
 "nbformat_minor": 2
}
