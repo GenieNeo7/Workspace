{
 "cells": [
  {
   "cell_type": "code",
   "execution_count": 55,
   "metadata": {},
   "outputs": [],
   "source": [
    "from selenium import webdriver\n",
    "from selenium.webdriver.common.by import By\n",
    "from selenium.webdriver.support.ui import WebDriverWait\n",
    "from selenium.webdriver.support import expected_conditions as EC\n",
    "import os\n",
    "import json\n",
    "import requests\n",
    "\n",
    "URL = 'https://nid.naver.com/nidlogin.login?url=http%3A%2F%2Fmail.naver.com%2F' "
   ]
  },
  {
   "cell_type": "code",
   "execution_count": 56,
   "metadata": {},
   "outputs": [],
   "source": [
    "def main():\n",
    "    try:\n",
    "        driver = get_driver()\n",
    "        driver.get(URL)\n",
    " \n",
    "        config = get_config()\n",
    " \n",
    "        login_naver(driver, config['userId'], config['userPw'])\n",
    "        driver.get('https://mail.naver.com')\n",
    "    \n",
    "    except Exception as e:\n",
    "        print(str(e))\n",
    "    else:\n",
    "        print(\"Main process is done.\")\n",
    "    finally:\n",
    "        os.system(\"Pause\")\n",
    "        driver.quit()\n",
    " "
   ]
  },
  {
   "cell_type": "code",
   "execution_count": 57,
   "metadata": {},
   "outputs": [],
   "source": [
    "\n",
    "def get_config():\n",
    "    try:\n",
    "        with open('config.json') as json_file:\n",
    "            json_data = json.load(json_file)\n",
    "    except Exception as e:\n",
    "        print('Error in reading config file, {}'.format(e))\n",
    "        return None\n",
    "    else:\n",
    "        return json_data\n",
    " "
   ]
  },
  {
   "cell_type": "code",
   "execution_count": 58,
   "metadata": {},
   "outputs": [],
   "source": [
    "\n",
    "def login_naver(driver, id, pw):\n",
    "    # element = driver.find_element_by_css_selector('#id') \n",
    "    element = WebDriverWait(driver, 10).until(\n",
    "        EC.presence_of_element_located((By.CSS_SELECTOR, \"#id\"))\n",
    "    )\n",
    "    element.send_keys(id)\n",
    " \n",
    "    element = WebDriverWait(driver, 10).until(\n",
    "        EC.presence_of_element_located((By.CSS_SELECTOR, \"#pw\"))\n",
    "    )\n",
    "    element.send_keys(pw)\n",
    " \n",
    "    element = WebDriverWait(driver, 10).until(\n",
    "        EC.presence_of_element_located((By.CSS_SELECTOR, \"input.btn_global\"))\n",
    "    )\n",
    "    element.click()\n",
    " \n",
    "    return False\n"
   ]
  },
  {
   "cell_type": "code",
   "execution_count": 59,
   "metadata": {},
   "outputs": [],
   "source": [
    "def get_driver():\n",
    "    driver = webdriver.Chrome(r'C:\\chromedriver.exe')\n",
    "    driver.implicitly_wait(3)\n",
    " \n",
    "    return driver"
   ]
  },
  {
   "cell_type": "code",
   "execution_count": 61,
   "metadata": {},
   "outputs": [
    {
     "name": "stdout",
     "output_type": "stream",
     "text": [
      "Main process is done.\n"
     ]
    }
   ],
   "source": [
    "if __name__ == '__main__':\n",
    "    main()"
   ]
  },
  {
   "cell_type": "code",
   "execution_count": null,
   "metadata": {},
   "outputs": [],
   "source": []
  }
 ],
 "metadata": {
  "kernelspec": {
   "display_name": "Python 3",
   "language": "python",
   "name": "python3"
  },
  "language_info": {
   "codemirror_mode": {
    "name": "ipython",
    "version": 3
   },
   "file_extension": ".py",
   "mimetype": "text/x-python",
   "name": "python",
   "nbconvert_exporter": "python",
   "pygments_lexer": "ipython3",
   "version": "3.7.3"
  }
 },
 "nbformat": 4,
 "nbformat_minor": 2
}
