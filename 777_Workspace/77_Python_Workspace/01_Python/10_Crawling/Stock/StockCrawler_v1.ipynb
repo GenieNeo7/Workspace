{
 "cells": [
  {
   "cell_type": "code",
   "execution_count": 1,
   "metadata": {},
   "outputs": [],
   "source": [
    "import requests\n",
    "from bs4 import BeautifulSoup\n",
    "import pandas as pd \n",
    "import re"
   ]
  },
  {
   "cell_type": "code",
   "execution_count": 2,
   "metadata": {},
   "outputs": [],
   "source": [
    "def transform_currentPrice_text(input_currentPriceLine):\n",
    "    current_price_rep = input_currentPriceLine.replace('현재가 ', '')\n",
    "    current_price_rep = current_price_rep.replace('상승 ', '+')\n",
    "    current_price_rep = current_price_rep.replace('플러스 ', '+')\n",
    "    current_price_rep = current_price_rep.replace('하락 ', '-')\n",
    "    current_price_rep = current_price_rep.replace('마이너스 ', '-')\n",
    "    current_price_rep = current_price_rep.replace(' 퍼센트', '%')\n",
    "    current_price_rep = current_price_rep.replace('전일대비', '')\n",
    "    current_price_rep = current_price_rep.replace('  ', ' ')\n",
    "    return current_price_rep"
   ]
  },
  {
   "cell_type": "code",
   "execution_count": 3,
   "metadata": {},
   "outputs": [],
   "source": [
    "def getCodeList():\n",
    "    code_df = pd.read_html('http://kind.krx.co.kr/corpgeneral/corpList.do?method=download&searchType=13', header=0)[0] \n",
    "    # 종목코드가 6자리이기 때문에 6자리를 맞춰주기 위해 설정해줌 \n",
    "    code_df.종목코드 = code_df.종목코드.map('{:06d}'.format) \n",
    "    # 우리가 필요한 것은 회사명과 종목코드이기 때문에 필요없는 column들은 제외해준다.\n",
    "    code_df = code_df[['회사명', '종목코드']] \n",
    "    # 한글로된 컬럼명을 영어로 바꿔준다. \n",
    "    code_df = code_df.rename(columns={'회사명': 'name', '종목코드': 'code'}) \n",
    "    return code_df\n"
   ]
  },
  {
   "cell_type": "code",
   "execution_count": 4,
   "metadata": {},
   "outputs": [],
   "source": [
    "def getStockPage(code):\n",
    "    test_url = 'https://finance.naver.com/item/main.nhn?code={code}'.format(code=code)\n",
    "    test_result = requests.get(test_url)\n",
    "    soup = BeautifulSoup(test_result.content, \"html.parser\")\n",
    "    print(test_url)\n",
    "    return soup"
   ]
  },
  {
   "cell_type": "code",
   "execution_count": 5,
   "metadata": {},
   "outputs": [],
   "source": [
    "def getCode(stock_name):\n",
    "    code = code_df.query(\"name=='{}'\".format(stock_name))['code'].to_string(index=False) \n",
    "    code = code[1:7]\n",
    "    return code"
   ]
  },
  {
   "cell_type": "code",
   "execution_count": 6,
   "metadata": {},
   "outputs": [],
   "source": [
    "def getBasicInfo(soup, item_name, code):\n",
    "    pbr = 0\n",
    "    per = 0\n",
    "    sameBusinessPER = 0\n",
    "    stock_type = ''\n",
    "    \n",
    "    for x in soup.find_all('em',id='_pbr'):\n",
    "        if not (x.text.strip()):\n",
    "            pbr = 0\n",
    "        else: pbr = x.text\n",
    "\n",
    "    for x in soup.find_all('em',id='_per'):\n",
    "        per = x.text\n",
    "\n",
    "#         similar per \n",
    "    trTag = soup.find_all(\"tr\", {\"class\": \"strong\"}) # 태그 p, 속성값 no_today 찾기\n",
    "    for i in trTag:\n",
    "        if(\"동일업종\" in i.text):\n",
    "            sameBusinessPER = i.text\n",
    "            sameBusinessPER = sameBusinessPER.replace(\"동일업종 PER\",\"\").strip()\n",
    "\n",
    "    for tag in soup.find_all(re.compile(\"dd\")):\n",
    "        str = tag.get_text()\n",
    "        if(\"현재가\" in str):\n",
    "            current_price = str\n",
    "        elif(\"전일가\" in str):\n",
    "            yesterday_price = str.replace(\"전일가\", \"\").strip()\n",
    "        elif(\"시가\" in str):\n",
    "            day_start_price = str.replace(\"시가\", \"\").strip()   \n",
    "        elif(\"고가\" in str):\n",
    "            day_high_price = str.replace(\"고가\", \"\").strip()\n",
    "        elif(\"저가\" in str):\n",
    "            day_low_price = str.replace(\"저가\", \"\").strip()   \n",
    "        elif(\"거래량\" in str):\n",
    "            day_trading_vol = str.replace(\"거래량\", \"\").strip()\n",
    "        elif(\"거래대금\" in str):\n",
    "            day_trading_price = str.replace(\"거래대금\", \"\").strip()   \n",
    "            if(\"백만\" in str):\n",
    "                day_trading_price = day_trading_price.replace(\"백만\", \",000,000\").strip()\n",
    "        elif(\"코스닥\" in str):\n",
    "            stock_type = '코스닥'\n",
    "        elif(\"코스피\" in str):\n",
    "            stock_type = '코스피'\n",
    "                 \n",
    "    current_price_rep = transform_currentPrice_text(current_price)\n",
    "    \n",
    "    str_cnt = 0\n",
    "    temp_str = ''\n",
    "    dict = {\"종목명\": item_name, \"종목코드\": code, \"현재가\":\"\",\"전일대비금액\":\"\", \"전일대비%\":\"\",\"전일가\":\"\",\"시가\":\"\",\"고가\":\"\",\"저가\":\"\",\n",
    "           \"거래량\":\"\",\"거래대금\":\"\",\"PBR\":\"\",\"PER\":\"\",\"BIZ_PER\":\"\", \"TYPE\":\"\"}\n",
    "\n",
    "    for i in current_price_rep:\n",
    "        temp_str += i\n",
    "        if(i == ' ' or i == '%'):\n",
    "            if(str_cnt == 0):\n",
    "                dict['현재가'] = temp_str\n",
    "            elif(str_cnt == 1):\n",
    "                dict['전일대비금액'] = temp_str\n",
    "            elif(str_cnt == 2):\n",
    "                dict['전일대비%'] = temp_str\n",
    "            str_cnt += 1\n",
    "            temp_str = ''\n",
    "\n",
    "    for item_name in dict:\n",
    "        if(item_name == '전일가'):\n",
    "            dict[item_name] = yesterday_price\n",
    "        elif(item_name == '시가'):\n",
    "            dict[item_name] = day_start_price\n",
    "        elif(item_name == '고가'):\n",
    "            dict[item_name] = day_high_price\n",
    "        elif(item_name == '저가'):\n",
    "            dict[item_name] = day_low_price\n",
    "        elif(item_name == '거래량'):\n",
    "            dict[item_name] = day_trading_vol\n",
    "        elif(item_name == '거래대금'):\n",
    "            dict[item_name] = day_trading_price\n",
    "        elif(item_name == 'PBR'):\n",
    "            dict[item_name] = pbr\n",
    "        elif(item_name == 'PER'):\n",
    "            dict[item_name] = per      \n",
    "        elif(item_name == 'BIZ_PER'):\n",
    "            dict[item_name] = sameBusinessPER\n",
    "        elif(item_name == 'TYPE'):\n",
    "            dict[item_name] = stock_type      \n",
    "    return dict"
   ]
  },
  {
   "cell_type": "code",
   "execution_count": 7,
   "metadata": {},
   "outputs": [],
   "source": [
    "current_price = 0\n",
    "yesterday_price = 0\n",
    "day_start_price = 0\n",
    "day_high_price = 0\n",
    "day_low_price = 0\n",
    "day_trading_vol = 0\n",
    "day_trading_price = 0\n",
    "\n",
    "stockList = []\n"
   ]
  },
  {
   "cell_type": "code",
   "execution_count": null,
   "metadata": {},
   "outputs": [],
   "source": [
    "# item_name_list = [\"모두투어리츠\"]\n",
    "item_name_list = []\n",
    "cnt_item = 0\n",
    "cnt_show = 0\n",
    "\n",
    "for i in getCodeList().name:\n",
    "    item_name_list.append(i)\n",
    "    cnt_item += 1  \n",
    "\n",
    "\n",
    "for item_name in item_name_list[1000:2000]:\n",
    "    code_df = getCodeList()\n",
    "    code = getCode(item_name)\n",
    "    soup = getStockPage(code)\n",
    "    basicInfo = getBasicInfo(soup, item_name, code)\n",
    "    stockList.append(basicInfo)\n",
    "    cnt_show += 1\n",
    "    print(item_name)\n",
    "    print(cnt_show)\n",
    "\n"
   ]
  },
  {
   "cell_type": "code",
   "execution_count": null,
   "metadata": {},
   "outputs": [],
   "source": [
    "stock_df = pd.DataFrame(stockList)"
   ]
  },
  {
   "cell_type": "code",
   "execution_count": null,
   "metadata": {
    "scrolled": true
   },
   "outputs": [],
   "source": [
    "# stock_df.to_excel(\"output2.xlsx\")\n",
    "stock_df.columns\n",
    "print(stock_df.columns)\n",
    "print(stock_df.values)"
   ]
  },
  {
   "cell_type": "code",
   "execution_count": null,
   "metadata": {},
   "outputs": [],
   "source": [
    "stock_df = stock_df.loc[:,['종목코드','종목명','TYPE', '거래량', '거래대금', \n",
    "'전일대비금액','전일대비%','전일가','현재가','시가','고가','저가','PBR', 'PER', 'BIZ_PER']]\n",
    "stock_df_rows = stock_df.values.tolist()"
   ]
  },
  {
   "cell_type": "code",
   "execution_count": null,
   "metadata": {},
   "outputs": [],
   "source": [
    "import cx_Oracle\n",
    "con = cx_Oracle.connect('daechul/sysdba@127.0.0.1/orcl')\n",
    "cur = con.cursor()\n"
   ]
  },
  {
   "cell_type": "code",
   "execution_count": null,
   "metadata": {},
   "outputs": [],
   "source": [
    "# cur.bindarraysize = 10\n",
    "# cur.setinputsizes(int, 100)\n",
    "start_val = 0\n",
    "for i in range(1000):\n",
    "    end_val = start_val + 1\n",
    "    cur.executemany(\"insert into STOCK_OVERVIEW values (:1, :2, :3, :4, :5, :6, :7, :8, :9, :10, :11, :12, :13, :14, :15, SYSDATE)\", stock_df_rows[start_val:end_val])\n",
    "    con.commit()\n",
    "    start_val += 1\n"
   ]
  },
  {
   "cell_type": "code",
   "execution_count": null,
   "metadata": {},
   "outputs": [],
   "source": [
    "# # cur.bindarraysize = 100\n",
    "# # cur.setinputsizes(int, 100)\n",
    "# stock_values = stock_df.values\n",
    "# # print(rows)\n",
    "# for i in stock_values[9:10]:\n",
    "# #     print(i)\n",
    "#     i = i.tolist()\n",
    "#     print(i[12])\n",
    "#     print(i)\n",
    "#     print(type(i))\n",
    "#     cur.executemany(\"insert into STOCK_TEST values (:1, :2, :3, :4, :5, :6, :7, :8, :9, :10, :11, :12, :13, :14, :15)\", i)\n",
    "#     con.commit()\n",
    "# # cur.executemany(\"insert into STOCK_TEST values (:1, :2, :3, :4, :5, :6, :7, :8, :9, :10, :11, :12, :13, :14, :15)\", z)\n",
    "# # con.commit()"
   ]
  },
  {
   "cell_type": "code",
   "execution_count": null,
   "metadata": {},
   "outputs": [],
   "source": [
    "cur.close()\n",
    "con.close()"
   ]
  },
  {
   "cell_type": "code",
   "execution_count": null,
   "metadata": {},
   "outputs": [],
   "source": []
  }
 ],
 "metadata": {
  "kernelspec": {
   "display_name": "Python 3",
   "language": "python",
   "name": "python3"
  },
  "language_info": {
   "codemirror_mode": {
    "name": "ipython",
    "version": 3
   },
   "file_extension": ".py",
   "mimetype": "text/x-python",
   "name": "python",
   "nbconvert_exporter": "python",
   "pygments_lexer": "ipython3",
   "version": "3.7.6"
  }
 },
 "nbformat": 4,
 "nbformat_minor": 2
}
