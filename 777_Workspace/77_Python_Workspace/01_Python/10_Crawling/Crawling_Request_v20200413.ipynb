{
 "cells": [
  {
   "cell_type": "code",
   "execution_count": 135,
   "metadata": {},
   "outputs": [],
   "source": [
    "import requests\n",
    "from http import cookies\n",
    "from bs4 import BeautifulSoup\n",
    "\n",
    "from urllib.parse import urlencode\n",
    "from urllib.request import Request, urlopen"
   ]
  },
  {
   "cell_type": "code",
   "execution_count": 134,
   "metadata": {},
   "outputs": [
    {
     "name": "stdout",
     "output_type": "stream",
     "text": [
      "<RequestsCookieJar[<Cookie PHAROSVISITOR=0000659b0171a0d43c397d710adcf284 for 10.220.242.132/OrderManagement>]>\n",
      "above\n",
      "<Response [200]>\n",
      "200\n",
      "<Response [200]>\n",
      "200\n"
     ]
    }
   ],
   "source": [
    "header = {\n",
    "    'Accept' : 'text/html,application/xhtml+xml,application/xml;q=0.9,image/webp,image/apng,*/*;q=0.8,application/signed-exchange;v=b3;q=0.9',\n",
    "    'Upgrade-Insecure-Requests' : '1',\n",
    "    'Accept-Encoding' : 'gzip, deflate',\n",
    "    'Content-Type': 'text/html; charset=\"UTF-8\"',\n",
    "    'Accept-Language' : 'ko-KR,ko;q=0.9,en-US;q=0.8,en;q=0.7',\n",
    "    'User-Agent' : 'Mozilla/5.0 (Linux; Android 6.0; Nexus 5 Build/MRA58N) AppleWebKit/537.36 (KHTML, like Gecko) Chrome/79.0.3945.130 Mobile Safari/537.36'\n",
    "}\n",
    "\n",
    "payload = {\n",
    "    \"j_username\": \"oms-automation\",\n",
    "    \"j_password\": \"admin@smf\",\n",
    "    \"submit\": \"Log In\"\n",
    "}\n",
    "\n",
    "payload2 = {\n",
    "'_osm.ctrl-state': 'lnQOfhbHWQMdTgW7epgdtvG9utcssc',\n",
    "'OrderID': '570',\n",
    "'OrderHistID': '2411',\n",
    "'multiOrderIds' :'', \n",
    "'UserStateID' : '4',\n",
    "'preferenceId' : '', \n",
    "'newlySelectedPref': '', \n",
    "'OrderTypeID_WORKLIST' : '10005',\n",
    "'OrderSourceID_WORKLIST': '10005',\n",
    "'operation' : '', \n",
    "'orderListType': 'worklist',\n",
    "'prefNames': '38'\n",
    "}\n",
    "\n",
    "c = cookies.SimpleCookie()\n",
    "\n",
    "# loginURL = \"http://10.110.120.80/management/user/login.json\"\n",
    "loginURL = 'http://10.220.242.132:7100/OrderManagement/j_security_check'\n",
    "\n",
    "cookieJar = requests.cookies.RequestsCookieJar()\n",
    "\n",
    "with requests.Session() as s:\n",
    "    login_req = s.post(loginURL, data = payload)\n",
    "    cookieJar = login_req.cookies\n",
    "    print(cookieJar)\n",
    "    \n",
    "    print('above')\n",
    "    \n",
    "    get_req = s.post(\"http://10.220.242.132:7100/OrderManagement/control/orderListMenu\", data = payload2, cookies = cookieJar)\n",
    "    \n",
    "    print(get_req)\n",
    "    print(get_req.status_code)\n",
    "#     print(get_req.content)\n",
    "    \n",
    "    get_req2 = s.get('http://10.220.242.132:7100/OrderManagement/control/worklist.do')\n",
    "    print(get_req2)\n",
    "    print(get_req2.status_code)"
   ]
  },
  {
   "cell_type": "code",
   "execution_count": 151,
   "metadata": {},
   "outputs": [
    {
     "name": "stdout",
     "output_type": "stream",
     "text": [
      "<Response [200]>\n",
      "200\n",
      "Help on method post in module requests.sessions:\n",
      "\n",
      "post(url, data=None, json=None, **kwargs) method of requests.sessions.Session instance\n",
      "    Sends a POST request. Returns :class:`Response` object.\n",
      "    \n",
      "    :param url: URL for the new :class:`Request` object.\n",
      "    :param data: (optional) Dictionary, list of tuples, bytes, or file-like\n",
      "        object to send in the body of the :class:`Request`.\n",
      "    :param json: (optional) json to send in the body of the :class:`Request`.\n",
      "    :param \\*\\*kwargs: Optional arguments that ``request`` takes.\n",
      "    :rtype: requests.Response\n",
      "\n"
     ]
    }
   ],
   "source": [
    "header = {\n",
    "'Accept': 'application/json',\n",
    "'Content-Type': 'application/json; charset=\"UTF-8\"',\n",
    "'User-Agent': 'Mozilla/5.0 (Linux; Android 6.0; Nexus 5 Build/MRA58N) AppleWebKit/537.36 (KHTML, like Gecko) Chrome/79.0.3945.130 Mobile Safari/537.36'\n",
    "}\n",
    "\n",
    "header2 = {\n",
    "'Accept': 'application/json',\n",
    "'Accept-Encoding': 'gzip, deflate',\n",
    "'Accept-Language': 'ko-KR,ko;q=0.9,en-US;q=0.8,en;q=0.7',\n",
    "'Connection': 'keep-alive',\n",
    "'Content-Length': '58',\n",
    "'Content-Type': 'application/json; charset=\"UTF-8\"',\n",
    "'Cookie': 'PHAROSVISITOR=00007a060171a02235fc68d40adcf2a6; PHAROSVISITOR=00007a060171a022365c68d80adcf2a6; locale=ko; CURRENT_BROWSER_COOKIE_INFO=48435; USER_INFO_KEY=48435; lastAccess=1587538641655; JSESSIONID=mfimLGYlX3vSTsPcDQOdHw__.gmsSvr21',\n",
    "'Host': '10.220.242.160',\n",
    "'Origin': 'http://10.220.242.160',\n",
    "'Referer': 'http://10.220.242.160/resource/websquare/websquare.do?w2xPath=%2Fresource%2Flogin.xml',\n",
    "'submissionid': 'login',\n",
    "'User-Agent': 'Mozilla/5.0 (Linux; Android 6.0; Nexus 5 Build/MRA58N) AppleWebKit/537.36 (KHTML, like Gecko) Chrome/79.0.3945.130 Mobile Safari/537.36'\n",
    "}\n",
    "\n",
    "payload = {\n",
    "    \"lang\": \"ko\",\n",
    "    \"loginName\": \"82022282\",\n",
    "    \"password\": \"aceNEO7$12\"\n",
    "}\n",
    "\n",
    "mainURL = 'http://10.217.231.56/resource/websquare/websquare.do?w2xPath=%2Fresource%2Findex.xml'\n",
    "loginURL = 'http://10.217.231.56/management/user/login.json'\n",
    "\n",
    "cookieJar = requests.cookies.RequestsCookieJar()\n",
    "cookieJar1 = requests.cookies.RequestsCookieJar()\n",
    "\n",
    "with requests.Session() as s:\n",
    "#     req = s.get(loginURL, headers = header)\n",
    "#     print(req)\n",
    "#     print(req.status_code)\n",
    "#     cookieJar = req.headers['Set-Cookie']\n",
    "#     cookieJar1 = req.cookies\n",
    "#     print('this is', cookieJar)\n",
    "#     json = urlopen(req).read().decode()\n",
    "#     header2['Cookie'] = cookieJar\n",
    "#     print(header2)\n",
    "    login_req = s.post(loginURL,json = payload, headers = header)\n",
    "    print(login_req)\n",
    "    print(login_req.status_code)\n",
    "    help(s.post)"
   ]
  },
  {
   "cell_type": "code",
   "execution_count": null,
   "metadata": {},
   "outputs": [],
   "source": []
  },
  {
   "cell_type": "code",
   "execution_count": 25,
   "metadata": {},
   "outputs": [
    {
     "name": "stdout",
     "output_type": "stream",
     "text": [
      "<Response [404]>\n",
      "\r\n",
      "\r\n",
      "\r\n",
      "\r\n",
      "\r\n",
      "\r\n",
      "\r\n",
      "<!DOCTYPE html PUBLIC \"-//W3C//DTD XHTML 1.0 Transitional//EN\" \"http://www.w3.org/TR/xhtml1/DTD/xhtml1-transitional.dtd\">\r\n",
      "\r\n",
      "\r\n",
      "<html xmlns='http://www.w3.org/1999/xhtml'\r\n",
      "\txmlns:ev='http://www.w3.org/2001/xml-events'\r\n",
      "\txmlns:w2='http://www.inswave.com/websquare'\r\n",
      "\txmlns:xf='http://www.w3.org/2002/xforms'>\r\n",
      "<head>\r\n",
      "<meta http-equiv=\"Content-Type\" content=\"text/html; charset=UTF-8\" />\r\n",
      "<meta http-equiv=\"X-UA-Compatible\" content=\"IE=Edge\" />\r\n",
      "<title>WebSquare</title>\r\n",
      "<script type=\"text/javascript\" src=\"javascript.wq?q=/bootloader\"></script>\r\n",
      "<script type=\"text/javascript\">\r\n",
      "\t// 세션 정보 script 변수 시작\r\n",
      "\tvar G_language = \"\";\r\n",
      "\tvar G_id = \"\";\r\n",
      "\tvar G_NAME = \"\";\r\n",
      "\tvar G_BIZGROUP = \"\";\r\n",
      "\tvar G_ROLELEVEL = \"\";\r\n",
      "\tvar G_ROLEID = \"\";\r\n",
      "\tvar G_token = \"\";\r\n",
      "\r\n",
      "\t\r\n",
      "\tvar displayRecordPerPage = 10;\r\n",
      "\t// 세션 정보 script 변수 끝\r\n",
      "\t\r\n",
      "\tfunction refreshCurrentSessionInfo(){\r\n",
      "\t\t\t\r\n",
      "\t\t//alert(\"session=\"+WebSquare.session.getAttribute( \"CURRENT_BROWSER_SESSION_INFO\"));\r\n",
      "\t\t//alert(\"cookied=\"+WebSquare.cookie.getCookie( \"CURRENT_BROWSER_COOKIE_INFO\"));\r\n",
      "\t\t\r\n",
      "\t\tif(WebSquare.session.getAttribute( \"CURRENT_BROWSER_SESSION_INFO\") != \r\n",
      "\t\t    WebSquare.cookie.getCookie( \"CURRENT_BROWSER_COOKIE_INFO\")){\r\n",
      "\t\t   \r\n",
      "            if(G_language == \"ko\"){\r\n",
      "            \talert(\"현재의 세션정보를 반영하기 위해 처음 페이지로 이동합니다.\");\r\n",
      "            }else if(G_language == \"en\"){\r\n",
      "            \talert(\"Go to the first page to reflect the current session information.\");\r\n",
      "            }\r\n",
      "\t\t    //alert(\"!~msg.Common.SessionChange~!\");\r\n",
      "\t\t    top.window.location = \"/resource/websquare/websquare.do?w2xPath=%2Fresource%2Findex.xml\";\r\n",
      "\t\t    return false;\r\n",
      "\t\t}\r\n",
      "\t\treturn true;\r\n",
      "\t}\r\n",
      "\t\r\n",
      "\twindow.onload = init;\r\n",
      "\tfunction init() {\r\n",
      "\t\ttry {\r\n",
      "\t\t\tWebSquare.startApplication();\r\n",
      "\t\t} catch (e) {\r\n",
      "\t\t\talert(e.message);\r\n",
      "\t\t}\r\n",
      "\t}\r\n",
      "</script>\r\n",
      "</head>\r\n",
      "<body>\r\n",
      "</body>\r\n",
      "</html>\n"
     ]
    }
   ],
   "source": [
    "header = {\n",
    "'Accept': 'application/json',\n",
    "'Content-Type': 'application/json; charset=\"UTF-8\"',\n",
    "'User-Agent': 'Mozilla/5.0 (Linux; Android 6.0; Nexus 5 Build/MRA58N) AppleWebKit/537.36 (KHTML, like Gecko) Chrome/79.0.3945.130 Mobile Safari/537.36'\n",
    "}\n",
    "\n",
    "payload = {\n",
    "    \"lang\": \"ko\",\n",
    "    \"loginName\": \"82022282\",\n",
    "    \"password\": \"aceNEO7$12\"\n",
    "}\n",
    "\n",
    "payload1 = {\n",
    "   \"unitSize\" : \"999\", \"startDate\" : \"20200405000000\", \"endDate\" : \"20200411000000\", \"customValue\" : \"20101IR4868459N\", \"selectJob\" : \"4\", \"customKey\" : \"OrderNumber\", \"currentPage\" : \"1\"\n",
    "}\n",
    "\n",
    "local_cookies = None\n",
    "\n",
    "mainURL = 'http://10.220.242.160/resource/websquare/websquare.do?w2xPath=%2Fresource%2Findex.xml'\n",
    "loginURL = 'http://10.220.242.160/management/user/login.json'\n",
    "\n",
    "with requests.Session() as s:\n",
    "    req = s.get(mainURL)\n",
    "    html = req.text\n",
    "    status = req.status_code\n",
    "    is_ok = req.ok\n",
    "    \n",
    "    local_cookies = s.cookies.get_dict()\n",
    "    login_req = s.post(loginURL, data = payload, headers = header, cookies = s.cookies)\n",
    "    print(login_req)\n",
    "    print(html)"
   ]
  },
  {
   "cell_type": "code",
   "execution_count": 100,
   "metadata": {},
   "outputs": [
    {
     "name": "stdout",
     "output_type": "stream",
     "text": [
      "<class 'requests.cookies.RequestsCookieJar'>\n",
      "<RequestsCookieJar[<Cookie JSESSIONID=qaDFb7bryQePkmcNyOpQqg__.gmsSvr11 for 10.220.242.160/>, <Cookie PHAROSVISITOR=000007c9017163b39e727aba0adcf2a5 for 10.220.242.160/resource/websquare>]>\n",
      "{'JSESSIONID': 'qaDFb7bryQePkmcNyOpQqg__.gmsSvr11', 'PHAROSVISITOR': '000007c9017163b39e727aba0adcf2a5'}\n",
      "JSESSIONID=B5FzKaSg-lTDr-At9CnBAg__.gmsSvr11\n",
      "<Response [404]>\n"
     ]
    }
   ],
   "source": []
  },
  {
   "cell_type": "code",
   "execution_count": 5,
   "metadata": {},
   "outputs": [
    {
     "name": "stdout",
     "output_type": "stream",
     "text": [
      "{'Date': 'Wed, 22 Apr 2020 05:17:19 GMT', 'Server': 'Apache', 'X-Frame-Options': 'SAMEORIGIN', 'X-Powered-By': 'Servlet 2.5; JBoss-5.0/JBossWeb-2.1', 'Content-Language': 'ko-KR', 'Content-Length': '1891', 'Keep-Alive': 'timeout=3', 'Connection': 'Keep-Alive', 'Content-Type': 'text/html;charset=UTF-8'}\n",
      "True\n"
     ]
    }
   ],
   "source": [
    "s = requests.Session()\n",
    "\n",
    "\n",
    "\n"
   ]
  },
  {
   "cell_type": "code",
   "execution_count": null,
   "metadata": {},
   "outputs": [],
   "source": []
  },
  {
   "cell_type": "code",
   "execution_count": 136,
   "metadata": {
    "scrolled": true
   },
   "outputs": [
    {
     "name": "stdout",
     "output_type": "stream",
     "text": [
      "<RequestsCookieJar[<Cookie JSESSIONID=Q6r4+fVdFvU4rxsWASIhoQ__.gmsSvr21 for 10.220.242.160/>, <Cookie PHAROSVISITOR=00007a060171637c594e65ee0adcf2a6 for 10.220.242.160/resource/websquare>]>\n",
      "404\n",
      "b'<!DOCTYPE HTML PUBLIC \"-//W3C//DTD HTML 4.01 Frameset//EN\" \"http://www.w3.org/TR/html4/frameset.dtd\">\\r\\n<html>\\r\\n\\t<head>\\r\\n\\t\\t<meta http-equiv=\"Content-Type\" content=\"text/html; charset=UTF-8\"/>\\r\\n\\t\\t<meta http-equiv=\"X-UA-Compatible\" content=\"IE=Edge\"/>\\r\\n\\t\\t<title>\\tGenesis EAI Management Monitoring System </title>\\r\\n\\t\\t<script type=\"text/javascript\">\\r\\n\\t\\t\\twindow.onload = init;\\t\\r\\n\\t\\t\\tfunction init(){\\r\\n\\t\\t\\t\\t//alert(\"/websquare/websquare.html?w2xPath=\"+\"${w2xPath}\");\\r\\n\\t\\t\\t\\t//window.location.href = \"/websquare/websquare.html?w2xPath=\"+\"${w2xPath}\";\\r\\n\\t\\t\\t\\t//alert(\"test\");\\r\\n\\t\\t\\t\\twindow.form1.submit();\\r\\n\\t\\t\\t}\\r\\n\\t\\t</script>\\r\\n\\t</head>\\r\\n<body>\\r\\n\\t<form action=\"/resource/websquare/websquare.do\" method=\"get\" name=\"form1\">\\r\\n\\t<input type=\"hidden\" name= \"w2xPath\" value=\"/resource/login.xml\"  size=\"30px\"/>\\r\\n\\t</form>\\r\\n</body>\\r\\n</html>\\r\\n'\n",
      "b'\"No Permission to Access (Session Timeout)||ERR_1044\"'\n"
     ]
    }
   ],
   "source": [
    "# requests.get(mainURL)\n",
    "\n",
    "with requests.Session() as s:\n",
    "    s.get(mainURL, headers = header)\n",
    "    if('csrftoken' == local_cookies):\n",
    "        local_cookies = s.cookies\n",
    "    else:\n",
    "        local_cookies = s.cookies\n",
    "        print(local_cookies)\n",
    "#         csrftoken = s.cookies['csrf']\n",
    "        \n",
    "    r = s.post(loginURL, data=payload, cookies = s.cookies)\n",
    "    print(r.status_code)\n",
    "    print(p.content)\n",
    "    r1 = s.post('http://10.220.242.160/monitoring/transactlog/searchTransactionLog.json', data = payload1, cookies = local_cookies)\n",
    "    print(r1.content)"
   ]
  },
  {
   "cell_type": "code",
   "execution_count": null,
   "metadata": {},
   "outputs": [],
   "source": []
  }
 ],
 "metadata": {
  "kernelspec": {
   "display_name": "Python 3",
   "language": "python",
   "name": "python3"
  },
  "language_info": {
   "codemirror_mode": {
    "name": "ipython",
    "version": 3
   },
   "file_extension": ".py",
   "mimetype": "text/x-python",
   "name": "python",
   "nbconvert_exporter": "python",
   "pygments_lexer": "ipython3",
   "version": "3.7.1"
  }
 },
 "nbformat": 4,
 "nbformat_minor": 2
}
