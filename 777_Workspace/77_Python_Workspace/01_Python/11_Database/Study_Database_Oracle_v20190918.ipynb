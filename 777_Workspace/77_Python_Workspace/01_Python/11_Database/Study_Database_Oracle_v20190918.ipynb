{
 "cells": [
  {
   "cell_type": "markdown",
   "metadata": {},
   "source": [
    "# Oracle DB "
   ]
  },
  {
   "cell_type": "code",
   "execution_count": 37,
   "metadata": {},
   "outputs": [],
   "source": [
    "import cx_Oracle\n",
    "import pandas as pd"
   ]
  },
  {
   "cell_type": "markdown",
   "metadata": {},
   "source": [
    "## Connect"
   ]
  },
  {
   "cell_type": "code",
   "execution_count": 38,
   "metadata": {},
   "outputs": [],
   "source": [
    "db_user = 'DAECHUL'\n",
    "db_password = 'sysdba'\n",
    "db_address = '127.0.0.1'\n",
    "db_port = '1521'\n",
    "db_sid = 'orcl'\n",
    "\n",
    "con = cx_Oracle.connect('{user}/{password}@{address}:{port}/{sid}'\n",
    "                         .format(user = db_user,password =db_password, address = db_address, port = db_port, sid = db_sid))\n",
    "cur = con.cursor()"
   ]
  },
  {
   "cell_type": "markdown",
   "metadata": {},
   "source": [
    "## Query"
   ]
  },
  {
   "cell_type": "code",
   "execution_count": 39,
   "metadata": {},
   "outputs": [
    {
     "name": "stdout",
     "output_type": "stream",
     "text": [
      "  COL1 COL2 COL3\n",
      "0    a    b    c\n",
      "1    S    K    S\n",
      "2    S    K    S\n"
     ]
    }
   ],
   "source": [
    "# conn = cx_Oracle.connect('DAECHUL/sysdba@localhost:1521/orcl')\n",
    "\n",
    "# db.execute('select * from all_tables where rownum < 10')\n",
    "sql = 'select * from test'\n",
    "cdfs = pd.read_sql_query(sql, con=con, chunksize = 10)\n",
    "\n",
    "for i in cdfs:\n",
    "    print(i)\n"
   ]
  },
  {
   "cell_type": "markdown",
   "metadata": {},
   "source": [
    "## Insert"
   ]
  },
  {
   "cell_type": "code",
   "execution_count": 35,
   "metadata": {},
   "outputs": [
    {
     "name": "stdout",
     "output_type": "stream",
     "text": [
      "[('a', 'b', 'c'), ('S', 'K', 'S'), ('S', 'K', 'S')]\n"
     ]
    }
   ],
   "source": [
    "import cx_Oracle\n",
    "import pandas as pd\n",
    "\n",
    "db_user = 'DAECHUL'\n",
    "db_password = 'sysdba'\n",
    "db_address = '127.0.0.1'\n",
    "db_port = '1521'\n",
    "db_sid = 'orcl'\n",
    "\n",
    "con = cx_Oracle.connect('{user}/{password}@{address}:{port}/{sid}'\n",
    "                         .format(user = db_user,password =db_password, address = db_address, port = db_port, sid = db_sid))\n",
    "cur = con.cursor()\n",
    "\n",
    "rows = list()\n",
    "row = tuple()\n",
    "row = ('S','K','S')\n",
    "rows.append(row)\n",
    "\n",
    "# print(rows)\n",
    "cur.executemany(\"insert into test(COL1, COL2, COL3) values (:1, :2, :3)\", rows)\n",
    "con.commit()\n",
    "\n",
    "cur2 = con.cursor()\n",
    "cur2.execute('select * from test')\n",
    "res = cur2.fetchall()\n",
    "print(res)\n",
    "cur.close()\n",
    "cur2.close()\n",
    "con.close()"
   ]
  },
  {
   "cell_type": "markdown",
   "metadata": {},
   "source": [
    "## Close"
   ]
  },
  {
   "cell_type": "code",
   "execution_count": 36,
   "metadata": {},
   "outputs": [
    {
     "ename": "NameError",
     "evalue": "name 'db' is not defined",
     "output_type": "error",
     "traceback": [
      "\u001b[1;31m---------------------------------------------------------------------------\u001b[0m",
      "\u001b[1;31mNameError\u001b[0m                                 Traceback (most recent call last)",
      "\u001b[1;32m<ipython-input-36-cda31279ac8d>\u001b[0m in \u001b[0;36m<module>\u001b[1;34m\u001b[0m\n\u001b[1;32m----> 1\u001b[1;33m \u001b[0mdb\u001b[0m\u001b[1;33m.\u001b[0m\u001b[0mclose\u001b[0m\u001b[1;33m(\u001b[0m\u001b[1;33m)\u001b[0m\u001b[1;33m\u001b[0m\u001b[1;33m\u001b[0m\u001b[0m\n\u001b[0m\u001b[0;32m      2\u001b[0m \u001b[0mconn\u001b[0m\u001b[1;33m.\u001b[0m\u001b[0mclose\u001b[0m\u001b[1;33m(\u001b[0m\u001b[1;33m)\u001b[0m\u001b[1;33m\u001b[0m\u001b[1;33m\u001b[0m\u001b[0m\n",
      "\u001b[1;31mNameError\u001b[0m: name 'db' is not defined"
     ]
    }
   ],
   "source": [
    "db.close()\n",
    "conn.close()"
   ]
  },
  {
   "cell_type": "code",
   "execution_count": null,
   "metadata": {},
   "outputs": [],
   "source": []
  },
  {
   "cell_type": "code",
   "execution_count": null,
   "metadata": {},
   "outputs": [],
   "source": []
  },
  {
   "cell_type": "code",
   "execution_count": null,
   "metadata": {},
   "outputs": [],
   "source": []
  },
  {
   "cell_type": "code",
   "execution_count": null,
   "metadata": {},
   "outputs": [],
   "source": []
  }
 ],
 "metadata": {
  "kernelspec": {
   "display_name": "Python 3",
   "language": "python",
   "name": "python3"
  },
  "language_info": {
   "codemirror_mode": {
    "name": "ipython",
    "version": 3
   },
   "file_extension": ".py",
   "mimetype": "text/x-python",
   "name": "python",
   "nbconvert_exporter": "python",
   "pygments_lexer": "ipython3",
   "version": "3.7.1"
  }
 },
 "nbformat": 4,
 "nbformat_minor": 2
}
