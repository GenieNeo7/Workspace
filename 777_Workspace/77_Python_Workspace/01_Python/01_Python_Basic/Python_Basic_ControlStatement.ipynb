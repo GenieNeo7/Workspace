{
 "cells": [
  {
   "cell_type": "markdown",
   "metadata": {},
   "source": [
    "# 3. Control Statement\n",
    "\n",
    "1. Break는 해당 루핑 문장 자체를 빠져나온다.\n",
    "2. Continue는 이후 문장을 미 수행하고, 처음으로 돌아간다"
   ]
  },
  {
   "cell_type": "markdown",
   "metadata": {},
   "source": [
    "\n",
    "\n",
    "## 3.1 IF Statement"
   ]
  },
  {
   "cell_type": "code",
   "execution_count": 43,
   "metadata": {},
   "outputs": [
    {
     "name": "stdout",
     "output_type": "stream",
     "text": [
      "false\n"
     ]
    }
   ],
   "source": [
    "x = 2\n",
    "y = 3\n",
    "z = 7\n",
    "l = [1,2,3]\n",
    "h1 = 'Hello python daechul'\n",
    "h2 = 'Hello'\n",
    "if h2+'i' in h1:\n",
    "    pass\n",
    "else:\n",
    "    print('false')"
   ]
  },
  {
   "cell_type": "markdown",
   "metadata": {},
   "source": [
    "## 3.2 WHILE Statement"
   ]
  },
  {
   "cell_type": "code",
   "execution_count": 45,
   "metadata": {},
   "outputs": [],
   "source": [
    "prompt = \"\"\"\n",
    "1. Add\n",
    "2. Del\n",
    "3. List\n",
    "7. Quit\n",
    "\n",
    "Enter number\n",
    "\"\"\""
   ]
  },
  {
   "cell_type": "code",
   "execution_count": 47,
   "metadata": {},
   "outputs": [
    {
     "name": "stdout",
     "output_type": "stream",
     "text": [
      "\n",
      "1. Add\n",
      "2. Del\n",
      "3. List\n",
      "7. Quit\n",
      "\n",
      "Enter number\n",
      "\n",
      "7\n"
     ]
    }
   ],
   "source": [
    "number= 0\n",
    "while number != 7:\n",
    "    print(prompt)\n",
    "    number = int(input())"
   ]
  },
  {
   "cell_type": "code",
   "execution_count": null,
   "metadata": {},
   "outputs": [],
   "source": [
    "coffee = 10\n",
    "money = 300\n",
    "\n",
    "while money:\n",
    "    print(\"커피를 주어요\")\n",
    "    coffee = coffee -1\n",
    "    print(\"Remain coffee is {coffee}\".format(coffee = coffee))\n",
    "    if not coffee:\n",
    "        print(\"coffee is not remain\")\n",
    "        break"
   ]
  },
  {
   "cell_type": "code",
   "execution_count": null,
   "metadata": {},
   "outputs": [],
   "source": [
    "coffee = 10\n",
    "while True:\n",
    "    money = int(input(\"input money:\"))\n",
    "    if money == 300:\n",
    "        print(\"give coffee.\")\n",
    "        coffee = coffee -1\n",
    "    elif money > 300:\n",
    "        print(\"return changes %s and give coffee\"%(money-300))\n",
    "        coffee = coffee -1\n",
    "    else:\n",
    "        print(\"return money without coffee\")\n",
    "        print(\"remains coffee is {}\".format(coffee))\n",
    "    if not coffee:\n",
    "        print(\"sold out\")\n",
    "        break"
   ]
  },
  {
   "cell_type": "code",
   "execution_count": 15,
   "metadata": {},
   "outputs": [
    {
     "name": "stdout",
     "output_type": "stream",
     "text": [
      "2sss 4sss 6sss 8sss 10sss 12sss 14sss 16sss 18sss 3sss 6sss 9sss 12sss 15sss 18sss 21sss 24sss 27sss 4sss 8sss 12sss 16sss 20sss 24sss 28sss 32sss 36sss 5sss 10sss 15sss 20sss 25sss 30sss 35sss 40sss 45sss 6sss 12sss 18sss 24sss 30sss 36sss 42sss 48sss 54sss 7sss 14sss 21sss 28sss 35sss 42sss 49sss 56sss 63sss 8sss 16sss 24sss 32sss 40sss 48sss 56sss 64sss 72sss 9sss 18sss 27sss 36sss 45sss 54sss 63sss 72sss 81sss "
     ]
    }
   ],
   "source": [
    "## 구구단\n",
    "for i in range(2,10):\n",
    "    for j in range(1, 10):\n",
    "        print(i*j, end=\"sss\")"
   ]
  },
  {
   "cell_type": "code",
   "execution_count": 35,
   "metadata": {},
   "outputs": [
    {
     "data": {
      "text/plain": [
       "[[1, 2, 3, 4], [1, 2, 3, 4], [1, 2, 3, 4], [1, 2, 3, 4]]"
      ]
     },
     "execution_count": 35,
     "metadata": {},
     "output_type": "execute_result"
    }
   ],
   "source": [
    "a = [1,2,3,4]\n",
    "result1 = []\n",
    "for i in a:\n",
    "    result1.append(i)\n",
    "\n",
    "result2 = []\n",
    "result2 = [a for i in a]\n",
    "    \n",
    "result2"
   ]
  },
  {
   "cell_type": "code",
   "execution_count": 36,
   "metadata": {},
   "outputs": [
    {
     "name": "stdout",
     "output_type": "stream",
     "text": [
      "*\n",
      "**\n",
      "***\n",
      "****\n",
      "*****\n",
      "******\n"
     ]
    }
   ],
   "source": [
    "i = 0\n",
    "while True:\n",
    "    i += 1\n",
    "    if(i > 6): break\n",
    "    print(i * '*')"
   ]
  },
  {
   "cell_type": "code",
   "execution_count": 37,
   "metadata": {},
   "outputs": [],
   "source": [
    "score = [70,60,55,75,95,90,80,80,85,100]"
   ]
  },
  {
   "cell_type": "code",
   "execution_count": 41,
   "metadata": {},
   "outputs": [
    {
     "name": "stdout",
     "output_type": "stream",
     "text": [
      "79.0\n"
     ]
    }
   ],
   "source": [
    "total = 0\n",
    "for i in score:\n",
    "    total += i\n",
    "average = total / len(score)\n",
    "print(average)"
   ]
  },
  {
   "cell_type": "code",
   "execution_count": null,
   "metadata": {},
   "outputs": [],
   "source": []
  },
  {
   "cell_type": "code",
   "execution_count": null,
   "metadata": {},
   "outputs": [],
   "source": []
  },
  {
   "cell_type": "code",
   "execution_count": null,
   "metadata": {},
   "outputs": [],
   "source": []
  }
 ],
 "metadata": {
  "kernelspec": {
   "display_name": "Python 3",
   "language": "python",
   "name": "python3"
  },
  "language_info": {
   "codemirror_mode": {
    "name": "ipython",
    "version": 3
   },
   "file_extension": ".py",
   "mimetype": "text/x-python",
   "name": "python",
   "nbconvert_exporter": "python",
   "pygments_lexer": "ipython3",
   "version": "3.7.1"
  }
 },
 "nbformat": 4,
 "nbformat_minor": 2
}
