{
 "cells": [
  {
   "cell_type": "code",
   "execution_count": 1,
   "metadata": {},
   "outputs": [],
   "source": [
    "import os\n",
    "import cx_Oracle"
   ]
  },
  {
   "cell_type": "code",
   "execution_count": 3,
   "metadata": {},
   "outputs": [
    {
     "name": "stdout",
     "output_type": "stream",
     "text": [
      "<cx_Oracle.Cursor on <cx_Oracle.Connection to DAECHUL@localhost:1521/orcl>>\n"
     ]
    }
   ],
   "source": [
    "import cx_Oracle\n",
    "\n",
    "conn = cx_Oracle.connect('DAECHUL/sysdba@localhost:1521/orcl')\n",
    "db = conn.cursor()\n",
    "db.execute('SELECT * FROM STOCK_TEST')\n",
    "\n",
    "for record in db:\n",
    "    print(record)\n",
    "print(db)\n",
    "    \n",
    "db.close()\n",
    "conn.close()"
   ]
  },
  {
   "cell_type": "code",
   "execution_count": 4,
   "metadata": {},
   "outputs": [
    {
     "data": {
      "text/plain": [
       "KeysView(environ({'ALLUSERSPROFILE': 'C:\\\\ProgramData', 'APPDATA': 'C:\\\\Users\\\\neo\\\\AppData\\\\Roaming', 'COMMONPROGRAMFILES': 'C:\\\\Program Files (x86)\\\\Common Files', 'COMMONPROGRAMFILES(X86)': 'C:\\\\Program Files (x86)\\\\Common Files', 'COMMONPROGRAMW6432': 'C:\\\\Program Files\\\\Common Files', 'COMPUTERNAME': 'DESKTOP-D7VUGE8', 'COMSPEC': 'C:\\\\WINDOWS\\\\system32\\\\cmd.exe', 'CONDA_DEFAULT_ENV': 'py36_32', 'CONDA_EXE': 'C:\\\\ProgramData\\\\Anaconda3\\\\Scripts\\\\conda.exe', 'CONDA_PREFIX': 'C:\\\\ProgramData\\\\Anaconda3\\\\envs\\\\py36_32', 'CONDA_PROMPT_MODIFIER': '(py36_32) ', 'CONDA_PYTHON_EXE': 'C:\\\\ProgramData\\\\Anaconda3\\\\python.exe', 'CONDA_SHLVL': '1', 'DRIVERDATA': 'C:\\\\Windows\\\\System32\\\\Drivers\\\\DriverData', 'HOMEDRIVE': 'C:', 'HOMEPATH': '\\\\Users\\\\neo', 'LOCALAPPDATA': 'C:\\\\Users\\\\neo\\\\AppData\\\\Local', 'LOGONSERVER': '\\\\\\\\DESKTOP-D7VUGE8', 'NUMBER_OF_PROCESSORS': '8', 'ONEDRIVE': 'C:\\\\Users\\\\neo\\\\OneDrive', 'OS': 'Windows_NT', 'PATH': 'C:\\\\ProgramData\\\\Anaconda3\\\\envs\\\\py36_32;C:\\\\ProgramData\\\\Anaconda3\\\\envs\\\\py36_32\\\\Library\\\\mingw-w64\\\\bin;C:\\\\ProgramData\\\\Anaconda3\\\\envs\\\\py36_32\\\\Library\\\\usr\\\\bin;C:\\\\ProgramData\\\\Anaconda3\\\\envs\\\\py36_32\\\\Library\\\\bin;C:\\\\ProgramData\\\\Anaconda3\\\\envs\\\\py36_32\\\\Scripts;C:\\\\ProgramData\\\\Anaconda3\\\\envs\\\\py36_32\\\\bin;C:\\\\ProgramData\\\\Anaconda3\\\\condabin;C:\\\\ProgramData\\\\Anaconda3;C:\\\\ProgramData\\\\Anaconda3\\\\Library\\\\mingw-w64\\\\bin;C:\\\\ProgramData\\\\Anaconda3\\\\Library\\\\usr\\\\bin;C:\\\\ProgramData\\\\Anaconda3\\\\Library\\\\bin;C:\\\\ProgramData\\\\Anaconda3\\\\Scripts;C:\\\\Program Files (x86)\\\\NAT Service;C:\\\\ProgramData\\\\DockerDesktop\\\\version-bin;C:\\\\Program Files\\\\Docker\\\\Docker\\\\Resources\\\\bin;C:\\\\app\\\\grid\\\\neo\\\\product\\\\12.1.0\\\\grid\\\\bin;C:\\\\app\\\\NEODB\\\\product\\\\12.1.0\\\\dbhome_1\\\\bin;C:\\\\Program Files (x86)\\\\Common Files\\\\Oracle\\\\Java\\\\javapath;C:\\\\Windows\\\\system32;C:\\\\Windows;C:\\\\Windows\\\\System32\\\\Wbem;C:\\\\Windows\\\\System32\\\\WindowsPowerShell\\\\v1.0;C:\\\\Program Files (x86)\\\\NVIDIA Corporation\\\\PhysX\\\\Common;C:\\\\Program Files\\\\Intel\\\\WiFi\\\\bin;C:\\\\Program Files\\\\Common Files\\\\Intel\\\\WirelessCommon;C:\\\\WINDOWS\\\\system32;C:\\\\WINDOWS;C:\\\\WINDOWS\\\\System32\\\\Wbem;C:\\\\WINDOWS\\\\System32\\\\WindowsPowerShell\\\\v1.0;C:\\\\WINDOWS\\\\System32\\\\OpenSSH;C:\\\\Users\\\\neo\\\\Downloads\\\\Sigcheck;C:\\\\app\\\\neo\\\\product\\\\12.2.0\\\\client_1;C:\\\\Users\\\\neo\\\\AppData\\\\Local\\\\Microsoft\\\\WindowsApps;C:\\\\Users\\\\neo\\\\AppData\\\\Local\\\\Programs\\\\Microsoft VS Code\\\\bin', 'PATHEXT': '.COM;.EXE;.BAT;.CMD;.VBS;.VBE;.JS;.JSE;.WSF;.WSH;.MSC', 'PROCESSOR_ARCHITECTURE': 'x86', 'PROCESSOR_ARCHITEW6432': 'AMD64', 'PROCESSOR_IDENTIFIER': 'Intel64 Family 6 Model 60 Stepping 3, GenuineIntel', 'PROCESSOR_LEVEL': '6', 'PROCESSOR_REVISION': '3c03', 'PROGRAMDATA': 'C:\\\\ProgramData', 'PROGRAMFILES': 'C:\\\\Program Files (x86)', 'PROGRAMFILES(X86)': 'C:\\\\Program Files (x86)', 'PROGRAMW6432': 'C:\\\\Program Files', 'PROMPT': '(py36_32) $P$G', 'PSMODULEPATH': 'C:\\\\Program Files\\\\WindowsPowerShell\\\\Modules;C:\\\\WINDOWS\\\\system32\\\\WindowsPowerShell\\\\v1.0\\\\Modules', 'PUBLIC': 'C:\\\\Users\\\\Public', 'SYSTEMDRIVE': 'C:', 'SYSTEMROOT': 'C:\\\\WINDOWS', 'TEMP': 'C:\\\\Users\\\\neo\\\\AppData\\\\Local\\\\Temp', 'TMP': 'C:\\\\Users\\\\neo\\\\AppData\\\\Local\\\\Temp', 'USERDOMAIN': 'DESKTOP-D7VUGE8', 'USERDOMAIN_ROAMINGPROFILE': 'DESKTOP-D7VUGE8', 'USERNAME': 'neo', 'USERPROFILE': 'C:\\\\Users\\\\neo', 'WINDIR': 'C:\\\\WINDOWS', 'KERNEL_LAUNCH_TIMEOUT': '40', 'JPY_INTERRUPT_EVENT': '3552', 'IPY_INTERRUPT_EVENT': '3552', 'JPY_PARENT_PID': '3556', 'TERM': 'xterm-color', 'CLICOLOR': '1', 'PAGER': 'cat', 'GIT_PAGER': 'cat', 'MPLBACKEND': 'module://ipykernel.pylab.backend_inline'}))"
      ]
     },
     "execution_count": 4,
     "metadata": {},
     "output_type": "execute_result"
    }
   ],
   "source": [
    "os.environ.keys()"
   ]
  },
  {
   "cell_type": "code",
   "execution_count": null,
   "metadata": {
    "scrolled": true
   },
   "outputs": [],
   "source": [
    "\n",
    "# Check if OS environment variables are setup.\n",
    "if 'ORACLE_HOME' not in os.environ.keys():\n",
    "    print(\"NOT IN ORACLE_HOME\")\n",
    "    os.environ['ORACLE_HOME'] = r'C:\\app\\neo\\product\\12.2.0\\client_1'\n",
    "else:\n",
    "    print(\"IN ORACLE_HOME\")\n",
    "    os.environ['ORACLE_HOME'] = r'C:\\app\\neo\\product\\12.2.0\\client_1'\n",
    "if 'LD_LIBRARY_PATH' not in os.environ.keys():\n",
    "    print(\"NOT IN LD_LIBRARY_PATH\")\n",
    "    os.environ['LD_LIBRARY_PATH'] = os.environ['ORACLE_HOME'] + '/lib'\n",
    "else:    \n",
    "    print(\"IN LD_LIBRARY_PATH\")\n",
    "    os.environ['LD_LIBRARY_PATH'] = os.environ['ORACLE_HOME'] + '/lib'\n",
    "if '/usr/lib/oracle' not in os.environ['PATH']:\n",
    "    print(\"NOT IN path\")\n",
    "    os.environ['PATH'] = os.environ['ORACLE_HOME'] + '/bin:' + os.environ['PATH']\n",
    "else:\n",
    "    print(\"IN path\")    \n",
    "    os.environ['PATH'] = os.environ['ORACLE_HOME'] + '/bin:' + os.environ['PATH']\n"
   ]
  },
  {
   "cell_type": "code",
   "execution_count": null,
   "metadata": {},
   "outputs": [],
   "source": [
    "os.environ.keys()"
   ]
  },
  {
   "cell_type": "code",
   "execution_count": null,
   "metadata": {},
   "outputs": [],
   "source": [
    "conn = cx_Oracle.connect('DAECHUL/sysdba@localhost:1521/orcl')\n",
    "db = conn.cursor()\n",
    "db.execute('SELECT * FROM STOCK_TEST')\n",
    "\n",
    "for record in db:\n",
    "    print(record)\n",
    "\n",
    "db.close()\n",
    "conn.close()"
   ]
  },
  {
   "cell_type": "code",
   "execution_count": null,
   "metadata": {},
   "outputs": [],
   "source": [
    "import os\n",
    "os.environ['PATH'] = os.pathsep + r'C:\\Program Files (x86)\\Graphviz2.38\\bin\\dot.exe'"
   ]
  },
  {
   "cell_type": "code",
   "execution_count": null,
   "metadata": {},
   "outputs": [],
   "source": [
    "os.environ['PATH'] = os.environ['PATH'].replace(\"dbhome_1\", \"dbclient_1\")"
   ]
  },
  {
   "cell_type": "code",
   "execution_count": null,
   "metadata": {},
   "outputs": [],
   "source": [
    "os.environ.keys()"
   ]
  },
  {
   "cell_type": "code",
   "execution_count": null,
   "metadata": {},
   "outputs": [],
   "source": [
    "conn = cx_Oracle.connect('DAECHUL/sysdba@localhost:1521/orcl')\n",
    "db = conn.cursor()\n",
    "db.execute('SELECT * FROM STOCK_TEST')"
   ]
  },
  {
   "cell_type": "code",
   "execution_count": null,
   "metadata": {},
   "outputs": [],
   "source": []
  }
 ],
 "metadata": {
  "kernelspec": {
   "display_name": "Python 3",
   "language": "python",
   "name": "python3"
  },
  "language_info": {
   "codemirror_mode": {
    "name": "ipython",
    "version": 3
   },
   "file_extension": ".py",
   "mimetype": "text/x-python",
   "name": "python",
   "nbconvert_exporter": "python",
   "pygments_lexer": "ipython3",
   "version": "3.6.8"
  }
 },
 "nbformat": 4,
 "nbformat_minor": 2
}
