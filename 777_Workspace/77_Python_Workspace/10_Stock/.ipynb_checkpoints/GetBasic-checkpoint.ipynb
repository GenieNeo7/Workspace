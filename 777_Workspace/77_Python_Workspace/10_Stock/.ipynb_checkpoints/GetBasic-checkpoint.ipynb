{
 "cells": [
  {
   "cell_type": "markdown",
   "metadata": {},
   "source": [
    "## Basic Information Get"
   ]
  },
  {
   "cell_type": "code",
   "execution_count": 1,
   "metadata": {},
   "outputs": [],
   "source": [
    "import cx_Oracle\n",
    "import pandas as pd\n",
    "import win32com.client\n",
    "import threading"
   ]
  },
  {
   "cell_type": "code",
   "execution_count": 2,
   "metadata": {},
   "outputs": [],
   "source": [
    "def connectDatabase(user, password, address, port, sid):\n",
    "    db_user = user\n",
    "    db_password = password\n",
    "    db_address = address\n",
    "    db_port = port\n",
    "    db_sid = sid\n",
    "\n",
    "    # conn = cx_Oracle.connect('DAECHUL/sysdba@localhost:1521/orcl')\n",
    "    conn = cx_Oracle.connect('{user}/{password}@{address}:{port}/{sid}'\n",
    "                             .format(user = db_user,password =db_password, address = db_address, port = db_port, sid = db_sid))\n",
    "    \n",
    "    return conn"
   ]
  },
  {
   "cell_type": "code",
   "execution_count": 3,
   "metadata": {},
   "outputs": [],
   "source": [
    "def getStockList(conn):\n",
    "    con = conn\n",
    "    cur = con.cursor()\n",
    "    cur.execute('select * from stock_list')\n",
    "    result = cur.fetchall()\n",
    "    cur.close()\n",
    "    return result\n"
   ]
  },
  {
   "cell_type": "code",
   "execution_count": 6,
   "metadata": {},
   "outputs": [
    {
     "name": "stdout",
     "output_type": "stream",
     "text": [
      "            0           1       2\n",
      "0     A055490        테이팩스   KOSPI\n",
      "1     A055550        신한지주   KOSPI\n",
      "2     A057050       현대홈쇼핑   KOSPI\n",
      "3     A058430       포스코강판   KOSPI\n",
      "4     A058650       세아홀딩스   KOSPI\n",
      "5     A058730         다스코   KOSPI\n",
      "6     A058850        KTcs   KOSPI\n",
      "7     A058860        KTis   KOSPI\n",
      "8     A060980       한라홀딩스   KOSPI\n",
      "9     A063160      종근당바이오   KOSPI\n",
      "10    A064350        현대로템   KOSPI\n",
      "11    A064960      S&T모티브   KOSPI\n",
      "12    A066570        LG전자   KOSPI\n",
      "13    A066575       LG전자우   KOSPI\n",
      "14    A067830     세이브존I&C   KOSPI\n",
      "15    A068270        셀트리온   KOSPI\n",
      "16    A068290       삼성출판사   KOSPI\n",
      "17    A068400       AJ렌터카   KOSPI\n",
      "18    A069260         휴켐스   KOSPI\n",
      "19    A069460       대호에이엘   KOSPI\n",
      "20    A069500   KODEX 200   KOSPI\n",
      "21    A069620        대웅제약   KOSPI\n",
      "22    A069640       한세엠케이   KOSPI\n",
      "23    A069660   KOSEF 200   KOSPI\n",
      "24    A069730       DSR제강   KOSPI\n",
      "25    A069960       현대백화점   KOSPI\n",
      "26    A070960       용평리조트   KOSPI\n",
      "27    A071050      한국금융지주   KOSPI\n",
      "28    A071055     한국금융지주우   KOSPI\n",
      "29    A071090        하이스틸   KOSPI\n",
      "...       ...         ...     ...\n",
      "2876  A319660       피에스케이  KOSDAQ\n",
      "2877  A320000   하나금융13호스팩  KOSDAQ\n",
      "2878  A321260      유진스팩4호  KOSDAQ\n",
      "2879  A322780    DB금융스팩7호  KOSDAQ\n",
      "2880  A323210  이베스트이안스팩1호  KOSDAQ\n",
      "2881  A323230     신한제5호스팩  KOSDAQ\n",
      "2882  A323280      신영스팩5호  KOSDAQ\n",
      "2883  A323940   케이비제18호스팩  KOSDAQ\n",
      "2884  A328380  미래에셋대우스팩3호  KOSDAQ\n",
      "2885  A329560  상상인이안제2호스팩  KOSDAQ\n",
      "2886  A900040     차이나그레이트  KOSDAQ\n",
      "2887  A900070      글로벌에스엠  KOSDAQ\n",
      "2888  A900080    에스앤씨엔진그룹  KOSDAQ\n",
      "2889  A900100       뉴프라이드  KOSDAQ\n",
      "2890  A900110   이스트아시아홀딩스  KOSDAQ\n",
      "2891  A900120      씨케이에이치  KOSDAQ\n",
      "2892  A900250     크리스탈신소재  KOSDAQ\n",
      "2893  A900260         로스웰  KOSDAQ\n",
      "2894  A900270        헝셩그룹  KOSDAQ\n",
      "2895  A900280       골든센츄리  KOSDAQ\n",
      "2896  A900290         GRT  KOSDAQ\n",
      "2897  A900300    오가닉티코스메틱  KOSDAQ\n",
      "2898  A900310        컬러레이  KOSDAQ\n",
      "2899  A900340        윙입푸드  KOSDAQ\n",
      "2900  A950110  SBI핀테크솔루션즈  KOSDAQ\n",
      "2901  A950130      엑세스바이오  KOSDAQ\n",
      "2902  A950140       잉글우드랩  KOSDAQ\n",
      "2903  A950160      코오롱티슈진  KOSDAQ\n",
      "2904  A950170         JTC  KOSDAQ\n",
      "2905  A950180         SNK  KOSDAQ\n",
      "\n",
      "[2906 rows x 3 columns]\n"
     ]
    }
   ],
   "source": [
    "conn = connectDatabase('DAECHUL','sysdba','127.0.0.1','1521', 'orcl')\n",
    "stock_df = pd.DataFrame(getStockList(conn))\n",
    "print(stock_df)\n",
    "conn.close()"
   ]
  },
  {
   "cell_type": "code",
   "execution_count": null,
   "metadata": {},
   "outputs": [],
   "source": []
  },
  {
   "cell_type": "code",
   "execution_count": null,
   "metadata": {},
   "outputs": [],
   "source": []
  }
 ],
 "metadata": {
  "kernelspec": {
   "display_name": "Python 3",
   "language": "python",
   "name": "python3"
  },
  "language_info": {
   "codemirror_mode": {
    "name": "ipython",
    "version": 3
   },
   "file_extension": ".py",
   "mimetype": "text/x-python",
   "name": "python",
   "nbconvert_exporter": "python",
   "pygments_lexer": "ipython3",
   "version": "3.6.8"
  }
 },
 "nbformat": 4,
 "nbformat_minor": 2
}
