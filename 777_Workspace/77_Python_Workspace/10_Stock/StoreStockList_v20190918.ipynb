{
 "cells": [
  {
   "cell_type": "markdown",
   "metadata": {},
   "source": [
    "# Store Data into Oracle DB"
   ]
  },
  {
   "cell_type": "code",
   "execution_count": 1,
   "metadata": {},
   "outputs": [],
   "source": [
    "import cx_Oracle\n",
    "import pandas as pd\n",
    "import win32com.client\n",
    "import threading"
   ]
  },
  {
   "cell_type": "code",
   "execution_count": 2,
   "metadata": {},
   "outputs": [],
   "source": [
    "def connectDatabase(user, password, address, port, sid):\n",
    "    db_user = user\n",
    "    db_password = password\n",
    "    db_address = address\n",
    "    db_port = port\n",
    "    db_sid = sid\n",
    "\n",
    "    # conn = cx_Oracle.connect('DAECHUL/sysdba@localhost:1521/orcl')\n",
    "    conn = cx_Oracle.connect('{user}/{password}@{address}:{port}/{sid}'\n",
    "                             .format(user = db_user,password =db_password, address = db_address, port = db_port, sid = db_sid))\n",
    "    \n",
    "    return conn\n"
   ]
  },
  {
   "cell_type": "code",
   "execution_count": 3,
   "metadata": {},
   "outputs": [],
   "source": [
    "def storeStockList(conn, list):\n",
    "    con = conn\n",
    "    cur = conn.cursor()\n",
    "    cur.executemany('insert into STOCK_LIST(CODE, NAME, TYPE) values(:1, :2, :3)', list)\n",
    "    conn.commit()\n",
    "    cur.close()\n",
    "    "
   ]
  },
  {
   "cell_type": "code",
   "execution_count": 4,
   "metadata": {},
   "outputs": [],
   "source": [
    "objCpCodeMgr = win32com.client.Dispatch(\"CpUtil.CpCodeMgr\")\n",
    "codeList_kospi = objCpCodeMgr.GetStockListByMarket(1) #거래소\n",
    "codeList_kosdaq = objCpCodeMgr.GetStockListByMarket(2) #코스닥"
   ]
  },
  {
   "cell_type": "code",
   "execution_count": 5,
   "metadata": {},
   "outputs": [],
   "source": [
    "list_kospi = list()\n",
    "list_kosdaq = list()\n",
    "\n",
    "for i, code in enumerate(codeList_kospi):\n",
    "    list_temp = []\n",
    "    secondCode = objCpCodeMgr.GetStockSectionKind(code)\n",
    "    name = objCpCodeMgr.CodeToName(code)\n",
    "    stdPrice = objCpCodeMgr.GetStockStdPrice(code)\n",
    "    list_temp.append(code)\n",
    "    list_temp.append(name)\n",
    "    list_temp.append('KOSPI')\n",
    "    list_kospi.append(list_temp)\n",
    "\n",
    "for i, code in enumerate(codeList_kosdaq):\n",
    "    list_temp = []\n",
    "    secondCode = objCpCodeMgr.GetStockSectionKind(code)\n",
    "    name = objCpCodeMgr.CodeToName(code)\n",
    "    stdPrice = objCpCodeMgr.GetStockStdPrice(code)\n",
    "    list_temp.append(code)\n",
    "    list_temp.append(name)\n",
    "    list_temp.append('KOSDAQ')\n",
    "    list_kosdaq.append(list_temp)"
   ]
  },
  {
   "cell_type": "code",
   "execution_count": 6,
   "metadata": {},
   "outputs": [],
   "source": [
    "conn = connectDatabase('DAECHUL','sysdba','127.0.0.1','1521', 'orcl')\n",
    "list_kospi_kosdaq = list_kospi + list_kosdaq\n",
    "# print(list_kospi_kosdaq[1:5])\n",
    "storeStockList(conn, list_kospi_kosdaq)\n",
    "conn.close()"
   ]
  },
  {
   "cell_type": "code",
   "execution_count": null,
   "metadata": {},
   "outputs": [],
   "source": []
  },
  {
   "cell_type": "code",
   "execution_count": null,
   "metadata": {},
   "outputs": [],
   "source": []
  },
  {
   "cell_type": "code",
   "execution_count": null,
   "metadata": {},
   "outputs": [],
   "source": []
  },
  {
   "cell_type": "code",
   "execution_count": null,
   "metadata": {},
   "outputs": [],
   "source": []
  }
 ],
 "metadata": {
  "kernelspec": {
   "display_name": "Python 3",
   "language": "python",
   "name": "python3"
  },
  "language_info": {
   "codemirror_mode": {
    "name": "ipython",
    "version": 3
   },
   "file_extension": ".py",
   "mimetype": "text/x-python",
   "name": "python",
   "nbconvert_exporter": "python",
   "pygments_lexer": "ipython3",
   "version": "3.6.8"
  }
 },
 "nbformat": 4,
 "nbformat_minor": 2
}
