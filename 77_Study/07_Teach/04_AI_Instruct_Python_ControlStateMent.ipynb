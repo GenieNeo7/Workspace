{
 "cells": [
  {
   "cell_type": "markdown",
   "id": "bfa34044",
   "metadata": {},
   "source": [
    "# 04-01 IF문\n",
    "- if와 elif, else를 통해 제어한다.\n",
    "- 같은 조건내 블록은 들여쓰기가 필요하다.\n",
    "- 아무것도 안하게 하고 싶으면 pass 입력"
   ]
  },
  {
   "cell_type": "code",
   "execution_count": 7,
   "id": "ada1e0d7",
   "metadata": {},
   "outputs": [],
   "source": [
    "str_data1 = 'hello python'\n",
    "list_data1 = ['hel','lo','wor']"
   ]
  },
  {
   "cell_type": "code",
   "execution_count": 9,
   "id": "9979f1fd",
   "metadata": {},
   "outputs": [
    {
     "name": "stdout",
     "output_type": "stream",
     "text": [
      "in list\n"
     ]
    }
   ],
   "source": [
    "if('h' not in str_data1):\n",
    "    print(str_data1)\n",
    "elif('wor' in list_data1):\n",
    "    print('in list')\n",
    "else:\n",
    "    print('bye')"
   ]
  },
  {
   "cell_type": "markdown",
   "id": "7556b239",
   "metadata": {},
   "source": [
    "# 04-2 while문\n",
    "- continue를 만나면 처음으로 돌아간다. break는 루프 종료"
   ]
  },
  {
   "cell_type": "code",
   "execution_count": null,
   "id": "459c1bf3",
   "metadata": {},
   "outputs": [],
   "source": [
    "a = 10\n",
    "\n",
    "while a > 0:\n",
    "    print(a)\n",
    "    a-=1\n",
    "    \n",
    "a = 10\n",
    "while True:\n",
    "    print(a)\n",
    "    a-=1\n",
    "    if(a <= 0):\n",
    "        break"
   ]
  },
  {
   "cell_type": "markdown",
   "id": "150dc585",
   "metadata": {},
   "source": [
    "<h1 style=\"color:red\"> 04- for 문 </h1>\n",
    "\n",
    "- continue를 만나면 처음으로 돌아간다. break는 루프 종료\n",
    "- range 함수를 통해 for문 실행 횟수 조절 가능\n",
    "\n",
    "<h2>리스트 내포</h2>\n",
    "\n",
    "- 리스트 내포를 이용하면 리스트 생성을 간단하게 할 수 있다"
   ]
  },
  {
   "cell_type": "code",
   "execution_count": 61,
   "id": "dc29211d",
   "metadata": {},
   "outputs": [
    {
     "data": {
      "text/plain": [
       "[4, 16, 36, 64, 100]"
      ]
     },
     "execution_count": 61,
     "metadata": {},
     "output_type": "execute_result"
    }
   ],
   "source": [
    "all_num = [1,2,3,4,5,6,7,8,9,10]\n",
    "even_only_square = [num ** 2 for num in all_num if num % 2 ==0]\n",
    "even_only_square"
   ]
  },
  {
   "cell_type": "code",
   "execution_count": 63,
   "id": "341f6514",
   "metadata": {},
   "outputs": [
    {
     "data": {
      "text/plain": [
       "[45, 4, 45, 14, 21, 38]"
      ]
     },
     "execution_count": 63,
     "metadata": {},
     "output_type": "execute_result"
    }
   ],
   "source": [
    "import random\n",
    "lotto_number = [random.randint(1, 45) for i in range(6)]\n",
    "lotto_number"
   ]
  },
  {
   "cell_type": "code",
   "execution_count": null,
   "id": "2a2dc844",
   "metadata": {},
   "outputs": [],
   "source": []
  }
 ],
 "metadata": {
  "kernelspec": {
   "display_name": "Python 3",
   "language": "python",
   "name": "python3"
  },
  "language_info": {
   "codemirror_mode": {
    "name": "ipython",
    "version": 3
   },
   "file_extension": ".py",
   "mimetype": "text/x-python",
   "name": "python",
   "nbconvert_exporter": "python",
   "pygments_lexer": "ipython3",
   "version": "3.7.10"
  }
 },
 "nbformat": 4,
 "nbformat_minor": 5
}
