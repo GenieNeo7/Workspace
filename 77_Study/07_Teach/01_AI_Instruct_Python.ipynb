{
 "cells": [
  {
   "cell_type": "markdown",
   "id": "3a8dd43b",
   "metadata": {},
   "source": [
    "# 1. Python 개요\n",
    "- 귀도 반 로섬이 1991년에 발표한 프로그래밍 언어\n",
    "- indent 개념 익숙해야 한다\n",
    "- 보통 파이썬이라고 하면 CPython을 의미한다\n",
    "\n",
    "> help, dir 잘 활용\n",
    "\n",
    "### 파이썬 추구하는 주요 철학\n",
    "- Beautiful is better than ugly\n",
    "- Explicit is better than implicit\n",
    "- Simple is better than complex\n",
    "- Readbility counts\n",
    "- Special cases aren't special enough to break the rules\n",
    "\n",
    "### 장점\n",
    "- 문법이 간단해서 배우기 쉽다.\n",
    "- 다양한 분야에서 활용 된다. (AI, 해킹, 크롤링 등)\n",
    "- 대부분의 운영체제에서 사용\n",
    "\n",
    "### 단점\n",
    "- 일반적으로 C언어보다 10~350배정도 느리다.\n",
    "\n",
    "> 최근에 컴퓨터 성능이 좋아졌기 때문에 게임 등과 같은 연산이 많이 필요한 프로그램이 아니면 체감이 어렵다. \n",
    "기계학습, 딥러닝처럼 고정적인 연산을 많이 하는 프로그램은 전체적인 프로그램은 파이썬으로 만들고, ***고정적인 연산 부분만 C언어로 만들어 활용***"
   ]
  },
  {
   "cell_type": "markdown",
   "id": "f0e722a0",
   "metadata": {},
   "source": [
    "# 2. 파이썬 개발 환경\n",
    "\n",
    "## 2.1 파이썬 인터프리터\n",
    "- Python 설치 후 라이브러리 설치\n",
    "- Anaconda 설치 (주피터 및 머신러닝 관련 주요 라이브러리를 내포하고 있다)\n",
    "\n",
    "## 2.2 IDE Tool\n",
    "1. Python interactive shell\n",
    "2. IDLE, ***VSCODE***, Pycharm, Intellij(Pycharm과 같은 Code Base)\n",
    "3. **Jupyter notebook**"
   ]
  },
  {
   "cell_type": "markdown",
   "id": "7f552624",
   "metadata": {},
   "source": [
    "# 3. Style Guide for Python Code\n",
    "- 파이썬의 철학 Readability를 위한 가이드로써, PEP8(Python Enhance Proposal 8)를 가이드로 한다.\n",
    "\n",
    "# 3.1 Layout\n",
    "- 들여쓰기(Indent)는 공백문자 4칸을 사용\n",
    "- 한라인은 최대 79자까지 입력, 79자를 넘어가면 \"\\\"를 이용하여 줄바꿈\n",
    "- import 문은 각각 한 줄씩 작성하며 최상단\n",
    "- import는 표준, 서드파티, 로컬 라이브러리 순으로하며 동일 수준일 경우는 문자 순으로\n",
    "- import는 모듈의 절대 이름을 기술한다.\n",
    "- 상대적인 import는 명시적인 구문을 기술한다.\n",
    "- 최상위 함수와 클래스는 빈 줄 두 개로 구분한다.\n",
    "- 클래스내의 메소드들은 빈 줄 하나로 구분한다.\n",
    "\n",
    "# 3.2 Whitespace in Expressions and Statements\n",
    "- 변수 할당(=) 앞 뒤에 공백문자를 하나만 사용한다.\n",
    "(x = 1)\n",
    "- 대괄호([])와 소괄호(())안에서는 공백문자를 피한다.\n",
    "- 쉼표, 쌍점과 쌍반점 뒤에는 공백문자를 추가한다.\n",
    "- 함수내에서 사용하는 인자 기본값의 = 은 공백문자가 없이 사용한다.\n",
    "- 초기값을 같는 인자 주석문은 = 앞 뒤로 공백문자를 추가한다.\n",
    "\n",
    "#  <span style=\"color:red\">3.3 Naming Conventions<span>\n",
    "- 모듈의 일므은 소문자와 snake_case를 사용한다.\n",
    "- 클래스와 예외는 CamelCase를 사용한다.\n",
    "- 함수, 변수, 속성은 snake_case를 사용한다.\n",
    "- _leading_underscore : 모듈 내부에서 사용되는 클래스,함수,변수,메서드를 선언할 경우 사용한다. (private 성격을 같는다.)\n",
    "- __double_leading_underscore : 속성이 맹글링(Mangling)되어 클래스간 속성명이 충돌이 방지된다.\n",
    "- __double_leading_and_trailing_underscore__: 파이썬이 제공하는 특별(Special, 매직)메서드가 이용한다. 빌트인 메서드이며, 충돌을 피하기 위해 사용자 선언은 피한다.\n",
    "- 모듈 수준의 상수는 대문자와 snake_case를 이용한다\n",
    "\n"
   ]
  },
  {
   "cell_type": "markdown",
   "id": "0e98aa35",
   "metadata": {},
   "source": [
    "# 4. 프로그래밍 기초"
   ]
  },
  {
   "cell_type": "markdown",
   "id": "a8634c93",
   "metadata": {},
   "source": [
    "## 4.1 주석\n",
    "- 줄단위 주석은 #을 사용하며, 블럭단위는 시작과 끝에 ''' 또는 \"\"\"을 입력한다.\n",
    "\n",
    "## 4.2 구문종료\n",
    "- 파이썬에서 구문 종료는 줄 바꿈을 이용한다.\n",
    "- 한 행에 여러 구문을 입력 가능하며, 각각의 구분은 ;를 이용한다.\n",
    "- 코드블럭은 들여쓰기로 지정한다\n",
    "\n",
    "## 4.3 print()\n",
    "- 결과 확인 등을 위해 사용"
   ]
  },
  {
   "cell_type": "markdown",
   "id": "441ce51f",
   "metadata": {},
   "source": [
    "# 5. 파이썬 주요 아이템\n",
    "1. 산술연산\n",
    "2. 변수\n",
    "3. 자료형\n",
    " - 숫자형, 문자형\n",
    " - 리스트\n",
    " - 딕셔너리\n",
    " - 튜플\n",
    " - set\n",
    "4. 제어문\n",
    " - if문\n",
    " - for 문\n",
    " - while 문\n",
    "5. 함수\n",
    "6. class\n",
    "7. 예외처리"
   ]
  },
  {
   "cell_type": "code",
   "execution_count": null,
   "id": "24d0ea2b",
   "metadata": {},
   "outputs": [],
   "source": []
  }
 ],
 "metadata": {
  "kernelspec": {
   "display_name": "Python 3",
   "language": "python",
   "name": "python3"
  },
  "language_info": {
   "codemirror_mode": {
    "name": "ipython",
    "version": 3
   },
   "file_extension": ".py",
   "mimetype": "text/x-python",
   "name": "python",
   "nbconvert_exporter": "python",
   "pygments_lexer": "ipython3",
   "version": "3.7.10"
  }
 },
 "nbformat": 4,
 "nbformat_minor": 5
}
