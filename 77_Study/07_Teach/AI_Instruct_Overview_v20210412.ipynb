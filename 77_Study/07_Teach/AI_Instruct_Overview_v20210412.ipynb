{
 "cells": [
  {
   "cell_type": "markdown",
   "id": "01fd1e0e",
   "metadata": {},
   "source": [
    "# AI (Artificial Intelligence)\n",
    "\n",
    "- 인공지능은 인간이 지닌 지적 능력의 일부 또는 전체, 혹은 그렇게 생각되는 능력을 인공적으로 구현한 것\n",
    "- 사람처럼 학습하고 추론할 수 있는 지능을 가진 컴퓨터 시스템을 만드는 기술\n",
    "\n",
    "> 인공지능 ⊃ 기계학습 ⊃ 인공신경망 ⊃ 딥 러닝\n",
    " "
   ]
  },
  {
   "cell_type": "markdown",
   "id": "7e8266d0",
   "metadata": {},
   "source": [
    "# ML (Machine Learning)\n",
    "- 명시적인 프로그래밍 없이 컴퓨터가 학습하는 능력을 갖추게 하는 연구 분야\n",
    "- 어떠한 작업 T에 대해 꾸준한 경험 E를 통하여 그 T에 대한 성능 P를 높이는 것"
   ]
  },
  {
   "cell_type": "markdown",
   "id": "d9897136",
   "metadata": {},
   "source": [
    "# DL (Deep Learning)\n",
    "- 머신러닝 알고리즘 중에 인공 신경망(Artificial neural network)를 기반으로 한 방법들\n",
    "- MLP, RNN, CNN 등"
   ]
  },
  {
   "cell_type": "markdown",
   "id": "17765adb",
   "metadata": {},
   "source": [
    "# 1. Learning tool\n",
    "\n",
    "\n",
    "## 1.1 Book\n",
    "1. 혼자 공부하는 머신러닝 + 딥러닝\n",
    "2. 파이썬 라이브러리를 활용한 데이터 분석 / 파이썬 라이브러리를 활용한 머신러닝 / 파이썬을 활용한 머신러닝 쿡북\n",
    "3. 핸즈온 머신러닝\n",
    "\n",
    "## 1.2 Instruct\n",
    "<li>coursera - 엔드류응</li>\n",
    "<li>성킴 유튜브 모두의 딥러닝</li>\n",
    "\n",
    "## 1.3 Web\n",
    "<li>tensorflow.blog</li>\n",
    "<li>데이터사이언스스쿨</li>\n",
    "\n",
    "><h5 style=\"color:Red\"> Kaggle<h5>competition 할 수 있는 곳! 사람들 소스 코드도 공개되어 볼 수 있다\n"
   ]
  }
 ],
 "metadata": {
  "kernelspec": {
   "display_name": "Python 3",
   "language": "python",
   "name": "python3"
  },
  "language_info": {
   "codemirror_mode": {
    "name": "ipython",
    "version": 3
   },
   "file_extension": ".py",
   "mimetype": "text/x-python",
   "name": "python",
   "nbconvert_exporter": "python",
   "pygments_lexer": "ipython3",
   "version": "3.7.10"
  }
 },
 "nbformat": 4,
 "nbformat_minor": 5
}
