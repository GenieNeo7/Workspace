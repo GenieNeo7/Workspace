{
 "cells": [
  {
   "cell_type": "code",
   "execution_count": 4,
   "id": "7c8c22a0",
   "metadata": {},
   "outputs": [],
   "source": [
    "import symbol\n",
    "import math\n",
    "import sympy"
   ]
  },
  {
   "cell_type": "code",
   "execution_count": 5,
   "id": "3f79ef5f",
   "metadata": {},
   "outputs": [],
   "source": [
    "x = sympy.Symbol('x')"
   ]
  },
  {
   "cell_type": "code",
   "execution_count": 19,
   "id": "486dc592",
   "metadata": {},
   "outputs": [],
   "source": [
    "equation_1 = x**3 - 8"
   ]
  },
  {
   "cell_type": "code",
   "execution_count": 20,
   "id": "84f4e0e0",
   "metadata": {},
   "outputs": [
    {
     "data": {
      "text/plain": [
       "[2, -1 - sqrt(3)*I, -1 + sqrt(3)*I]"
      ]
     },
     "execution_count": 20,
     "metadata": {},
     "output_type": "execute_result"
    }
   ],
   "source": [
    "sympy.solve(equation_1)"
   ]
  },
  {
   "cell_type": "code",
   "execution_count": 13,
   "id": "fac5745d",
   "metadata": {},
   "outputs": [],
   "source": []
  },
  {
   "cell_type": "code",
   "execution_count": 3,
   "id": "380bb172",
   "metadata": {},
   "outputs": [],
   "source": []
  },
  {
   "cell_type": "code",
   "execution_count": 5,
   "id": "afc72832",
   "metadata": {},
   "outputs": [
    {
     "data": {
      "text/plain": [
       "22"
      ]
     },
     "execution_count": 5,
     "metadata": {},
     "output_type": "execute_result"
    }
   ],
   "source": []
  },
  {
   "cell_type": "code",
   "execution_count": null,
   "id": "11ab1662",
   "metadata": {},
   "outputs": [],
   "source": []
  }
 ],
 "metadata": {
  "kernelspec": {
   "display_name": "Python 3",
   "language": "python",
   "name": "python3"
  },
  "language_info": {
   "codemirror_mode": {
    "name": "ipython",
    "version": 3
   },
   "file_extension": ".py",
   "mimetype": "text/x-python",
   "name": "python",
   "nbconvert_exporter": "python",
   "pygments_lexer": "ipython3",
   "version": "3.7.10"
  }
 },
 "nbformat": 4,
 "nbformat_minor": 5
}
