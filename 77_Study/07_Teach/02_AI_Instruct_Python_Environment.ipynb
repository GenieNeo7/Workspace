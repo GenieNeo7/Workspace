{
 "cells": [
  {
   "cell_type": "markdown",
   "id": "11a64825",
   "metadata": {},
   "source": [
    "# 1. Python 설치\n",
    "- 파이썬은 현재 3.x 버전까지 나와 있다. 파이썬 2.x와는 호환이 거의 안되며 2만 설치되어 있다면 3버전도 설치가 필요하다"
   ]
  },
  {
   "cell_type": "markdown",
   "id": "37fe1832",
   "metadata": {},
   "source": [
    "# 2. 설치 방법"
   ]
  },
  {
   "cell_type": "markdown",
   "id": "69d9dfe6",
   "metadata": {},
   "source": [
    "## 2.1 Python 설치"
   ]
  },
  {
   "cell_type": "markdown",
   "id": "8e454d9c",
   "metadata": {},
   "source": [
    "<h2 style=\"color:red\">2.2 Anaconda (추천)</h2>\n",
    "- 아나콘다 배포판은 데이터 분석에 중점을 둔 배포판으로써 numpy 및 matplotlib, jupyter 등을 포함하고 있다."
   ]
  },
  {
   "cell_type": "code",
   "execution_count": null,
   "id": "43a7d189",
   "metadata": {},
   "outputs": [],
   "source": []
  }
 ],
 "metadata": {
  "kernelspec": {
   "display_name": "Python 3",
   "language": "python",
   "name": "python3"
  },
  "language_info": {
   "codemirror_mode": {
    "name": "ipython",
    "version": 3
   },
   "file_extension": ".py",
   "mimetype": "text/x-python",
   "name": "python",
   "nbconvert_exporter": "python",
   "pygments_lexer": "ipython3",
   "version": "3.7.10"
  }
 },
 "nbformat": 4,
 "nbformat_minor": 5
}
