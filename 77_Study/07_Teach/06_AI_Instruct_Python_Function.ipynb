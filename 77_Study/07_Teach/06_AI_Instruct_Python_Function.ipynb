{
 "cells": [
  {
   "cell_type": "markdown",
   "id": "e7d1e6c1",
   "metadata": {},
   "source": [
    "# Function\n",
    "- 반복적으로 사용되는 것을 묶어 놓은 것\n",
    "\n",
    "'''\n",
    "\n",
    "def 함수이름(매개변수):\n",
    "\n",
    "    수행할 문장1\n",
    "    수행할 문장2\n",
    "    ...\n",
    "''' \n",
    "\n",
    "위와 같은 형태로 구성"
   ]
  },
  {
   "cell_type": "code",
   "execution_count": 1,
   "id": "d97c89df",
   "metadata": {},
   "outputs": [
    {
     "data": {
      "text/plain": [
       "8"
      ]
     },
     "execution_count": 1,
     "metadata": {},
     "output_type": "execute_result"
    }
   ],
   "source": [
    "def add(a, b):\n",
    "    return a + b\n",
    "\n",
    "add(3,5)"
   ]
  },
  {
   "cell_type": "markdown",
   "id": "206c4f64",
   "metadata": {},
   "source": [
    "# 매개변수 지정\n",
    "\n",
    "1. (a, b) 처럼 일반적으로 지정하는 방법\n",
    "2. (a=1, b=2) 처럼 default value값 지정 가능\n",
    "3. (*args)는 여러개의 매개변수를 하나로 받는다.\n",
    "4. (**args) 키워드 파라미터로써 key, value (변수이름과 값) 형태로 입력 받을 수 있으며 dictionary 형태로 저장 된다\n"
   ]
  },
  {
   "cell_type": "code",
   "execution_count": 7,
   "id": "a6dee8cc",
   "metadata": {},
   "outputs": [
    {
     "name": "stdout",
     "output_type": "stream",
     "text": [
      "<class 'tuple'>\n"
     ]
    },
    {
     "data": {
      "text/plain": [
       "15"
      ]
     },
     "execution_count": 7,
     "metadata": {},
     "output_type": "execute_result"
    }
   ],
   "source": [
    "def add(*args):\n",
    "    print(type(args)) # tuple로 입력 받는다.\n",
    "    total_number = 0\n",
    "    for arg in args:\n",
    "        total_number += arg\n",
    "    return total_number\n",
    "\n",
    "add(1,2,3,4,5)"
   ]
  },
  {
   "cell_type": "code",
   "execution_count": 10,
   "id": "cdb77485",
   "metadata": {},
   "outputs": [
    {
     "name": "stdout",
     "output_type": "stream",
     "text": [
      "{'a': 'before', 'b': 'after', 'c': 7}\n"
     ]
    }
   ],
   "source": [
    "def keyword_func(**args):\n",
    "    print(args)\n",
    "keyword_func(a='before', b='after', c=7)"
   ]
  },
  {
   "cell_type": "code",
   "execution_count": 15,
   "id": "a26aee7e",
   "metadata": {},
   "outputs": [
    {
     "name": "stdout",
     "output_type": "stream",
     "text": [
      "1\n"
     ]
    }
   ],
   "source": [
    "a = 1\n",
    "def vartest(a):\n",
    "    a = a + 1\n",
    "vartest(a)\n",
    "print(a)"
   ]
  },
  {
   "cell_type": "markdown",
   "id": "218819d9",
   "metadata": {},
   "source": [
    "# 함수에서의 변수 scope\n",
    "- 함수 안에서 사용 된 변수는 함수 밖에서 사용 안된다.\n",
    "- 함수안과 밖에 동일한 이름의 변수는 서로 다른 것이다. 함수안에서 함수 밖에 있는 변수 데이터 수정하려면 global 명령어를 사용해야 한다.\n",
    "(global 명령어는 함수의 독립성을 훼손 시킬 수 있기 때문에, global 명령보다는 함수 밖에서 return을 통해 함수 밖 변수 수정을 추천)"
   ]
  },
  {
   "cell_type": "markdown",
   "id": "cfc2a2df",
   "metadata": {},
   "source": [
    "# lambda 간결하게 사용 되는 함수 정의 때 주로 사용\n",
    "- 메모리에 올라가 있지 않기 때문에 자원활용 측면?"
   ]
  },
  {
   "cell_type": "code",
   "execution_count": 18,
   "id": "cac15752",
   "metadata": {},
   "outputs": [
    {
     "name": "stdout",
     "output_type": "stream",
     "text": [
      "7\n"
     ]
    }
   ],
   "source": [
    "add = lambda a, b: a+b\n",
    "result =add(3, 4)\n",
    "print(result)"
   ]
  },
  {
   "cell_type": "markdown",
   "id": "cf7a1b7d",
   "metadata": {},
   "source": [
    "# 파일 읽고 쓰기"
   ]
  },
  {
   "cell_type": "code",
   "execution_count": 48,
   "id": "8ab308bd",
   "metadata": {},
   "outputs": [],
   "source": [
    "# 파일쓰기\n",
    "f = open(\"new.txt\", 'w')\n",
    "f.write('test\\n test1 \\n test7 \\n go back \\t home\\npython \\n pypy')\n",
    "f.close()"
   ]
  },
  {
   "cell_type": "code",
   "execution_count": 53,
   "id": "0493579a",
   "metadata": {},
   "outputs": [],
   "source": [
    "with open(\"new.txt\", \"w\") as f:\n",
    "    f.write(\"Life is too short, you need python\\ngudo\")"
   ]
  },
  {
   "cell_type": "code",
   "execution_count": 54,
   "id": "fa8c7b96",
   "metadata": {},
   "outputs": [
    {
     "name": "stdout",
     "output_type": "stream",
     "text": [
      "Life is too short, you need python\r\n",
      "gudo"
     ]
    }
   ],
   "source": [
    "!cat new.txt"
   ]
  },
  {
   "cell_type": "code",
   "execution_count": 55,
   "id": "a2682e17",
   "metadata": {},
   "outputs": [
    {
     "name": "stdout",
     "output_type": "stream",
     "text": [
      "Life is too short, you need python\n",
      "\n",
      "gudo\n"
     ]
    }
   ],
   "source": [
    "# 파일읽기\n",
    "f = open('new.txt', 'r')\n",
    "while True:\n",
    "    line = f.readline()\n",
    "    if not line: break\n",
    "    print(line)\n",
    "f.close()"
   ]
  },
  {
   "cell_type": "code",
   "execution_count": 56,
   "id": "daff9150",
   "metadata": {},
   "outputs": [
    {
     "name": "stdout",
     "output_type": "stream",
     "text": [
      "Life is too short, you need python\n",
      "gudo\n"
     ]
    }
   ],
   "source": [
    "# 파일읽기\n",
    "f = open('new.txt', 'r')\n",
    "data = f.read()\n",
    "print(data)\n",
    "f.close()"
   ]
  },
  {
   "cell_type": "code",
   "execution_count": 60,
   "id": "3d0274e8",
   "metadata": {},
   "outputs": [],
   "source": [
    "with open('test.txt', 'w') as f:\n",
    "    f.write(\"Life is too short\\nyou need java\")"
   ]
  },
  {
   "cell_type": "code",
   "execution_count": 64,
   "id": "34fb8ec6",
   "metadata": {},
   "outputs": [],
   "source": [
    "f = open('test.txt', 'r')\n",
    "body = f.read()\n",
    "body = body.replace('java', 'python')\n",
    "with open('test.txt', 'w') as f:\n",
    "    f.write(body)\n"
   ]
  },
  {
   "cell_type": "code",
   "execution_count": 65,
   "id": "c3a75021",
   "metadata": {},
   "outputs": [
    {
     "name": "stdout",
     "output_type": "stream",
     "text": [
      "Life is too short\n",
      "you need python\n"
     ]
    }
   ],
   "source": [
    "with open('test.txt', 'r') as f:\n",
    "    data = f.read()\n",
    "    print(data)"
   ]
  },
  {
   "cell_type": "code",
   "execution_count": null,
   "id": "5b138d9e",
   "metadata": {},
   "outputs": [],
   "source": [
    "import pyautogui\n",
    "\n",
    "im1 = pyautogui.screenshot()\n",
    "im2 = pyautogui.screenshot('my_screenshot.png')\n",
    "im3 = pyautogui.screenshot('my_region.png', region=(0, 0, 300, 300))"
   ]
  },
  {
   "cell_type": "code",
   "execution_count": 66,
   "id": "2fad6e10",
   "metadata": {},
   "outputs": [],
   "source": [
    "import requests"
   ]
  },
  {
   "cell_type": "code",
   "execution_count": 84,
   "id": "70b9bd56",
   "metadata": {},
   "outputs": [],
   "source": [
    "SECRET_KEY = '00457ccaa7a92d31309111ad20949710'\n",
    "headers = {'Authorization': f'KakaoAK {SECRET_KEY}'}"
   ]
  },
  {
   "cell_type": "code",
   "execution_count": 93,
   "id": "3b55b308",
   "metadata": {},
   "outputs": [],
   "source": [
    "data = requests.get(\"https://dapi.kakao.com/v3/search/book?target=isbn&query=9791158391447\", headers=headers)"
   ]
  },
  {
   "cell_type": "code",
   "execution_count": 94,
   "id": "2633f3c1",
   "metadata": {},
   "outputs": [
    {
     "data": {
      "text/plain": [
       "'{\"documents\":[{\"authors\":[\"야마다 아키노리\"],\"contents\":\"컨테이너 가상화 기술은 게스트 운영체제 없이 호스트 운영체제 위에 격리된 환경에서 가상화를 구현한다. 게스트 운영체제가 따로 존재하지 않으므로 호스트 운영체제의 요소를 공유하며 그만큼 중복되는 요소가 줄어 성능적 이점을 누릴 수 있다. 이 책은 이러한 컨테이너 가상화 기술을 애플리케이션 개발 및 배포에 도입하기 위한 입문서다. 도커/쿠버네티스를 실무에서 활용 중인 저자가 실무 스킬을 최신 정보와 함께 알기 쉽게 설명한다. 로컬 환경 테스트는 물론\",\"datetime\":\"2019-03-20T00:00:00.000+09:00\",\"isbn\":\"1158391447 9791158391447\",\"price\":28000,\"publisher\":\"위키북스\",\"sale_price\":25200,\"status\":\"정상판매\",\"thumbnail\":\"https://search1.kakaocdn.net/thumb/R120x174.q85/?fname=http%3A%2F%2Ft1.daumcdn.net%2Flbook%2Fimage%2F4903536%3Ftimestamp%3D20210420142915\",\"title\":\"도커/쿠버네티스를 활용한 컨테이너 개발 실전 입문(위키북스 시스템...\",\"translators\":[\"심효섭\"],\"url\":\"https://search.daum.net/search?w=bookpage\\\\u0026bookId=4903536\\\\u0026q=%EB%8F%84%EC%BB%A4%2F%EC%BF%A0%EB%B2%84%EB%84%A4%ED%8B%B0%EC%8A%A4%EB%A5%BC+%ED%99%9C%EC%9A%A9%ED%95%9C+%EC%BB%A8%ED%85%8C%EC%9D%B4%EB%84%88+%EA%B0%9C%EB%B0%9C+%EC%8B%A4%EC%A0%84+%EC%9E%85%EB%AC%B8%28%EC%9C%84%ED%82%A4%EB%B6%81%EC%8A%A4+%EC%8B%9C%EC%8A%A4%ED%85%9C+%26+%EB%84%A4%ED%8A%B8%EC%9B%8C%ED%81%AC+%EC%8B%9C%EB%A6%AC%EC%A6%88+7%29\"}],\"meta\":{\"is_end\":true,\"pageable_count\":1,\"total_count\":1}}'"
      ]
     },
     "execution_count": 94,
     "metadata": {},
     "output_type": "execute_result"
    }
   ],
   "source": [
    "data.text"
   ]
  },
  {
   "cell_type": "code",
   "execution_count": null,
   "id": "7ad0c683",
   "metadata": {},
   "outputs": [],
   "source": []
  }
 ],
 "metadata": {
  "kernelspec": {
   "display_name": "Python 3",
   "language": "python",
   "name": "python3"
  },
  "language_info": {
   "codemirror_mode": {
    "name": "ipython",
    "version": 3
   },
   "file_extension": ".py",
   "mimetype": "text/x-python",
   "name": "python",
   "nbconvert_exporter": "python",
   "pygments_lexer": "ipython3",
   "version": "3.7.10"
  }
 },
 "nbformat": 4,
 "nbformat_minor": 5
}
