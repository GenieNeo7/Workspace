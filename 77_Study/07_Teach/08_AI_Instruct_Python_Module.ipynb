{
 "cells": [
  {
   "cell_type": "markdown",
   "id": "4fd4993f",
   "metadata": {},
   "source": [
    "# 08 Module\n",
    "- 모듈은 함수나 변수 또는 클래스를 모아 놓은 파일"
   ]
  },
  {
   "cell_type": "code",
   "execution_count": 4,
   "id": "6fa239e7",
   "metadata": {},
   "outputs": [],
   "source": [
    "from Test_Module import Calculator"
   ]
  },
  {
   "cell_type": "code",
   "execution_count": 9,
   "id": "d93a6459",
   "metadata": {},
   "outputs": [
    {
     "data": {
      "text/plain": [
       "['__class__',\n",
       " '__delattr__',\n",
       " '__dict__',\n",
       " '__dir__',\n",
       " '__doc__',\n",
       " '__eq__',\n",
       " '__format__',\n",
       " '__ge__',\n",
       " '__getattribute__',\n",
       " '__gt__',\n",
       " '__hash__',\n",
       " '__init__',\n",
       " '__init_subclass__',\n",
       " '__le__',\n",
       " '__lt__',\n",
       " '__module__',\n",
       " '__ne__',\n",
       " '__new__',\n",
       " '__reduce__',\n",
       " '__reduce_ex__',\n",
       " '__repr__',\n",
       " '__setattr__',\n",
       " '__sizeof__',\n",
       " '__str__',\n",
       " '__subclasshook__',\n",
       " '__weakref__',\n",
       " 'add',\n",
       " 'class_var',\n",
       " 'set_data']"
      ]
     },
     "execution_count": 9,
     "metadata": {},
     "output_type": "execute_result"
    }
   ],
   "source": [
    "dir(Calculator)"
   ]
  },
  {
   "cell_type": "code",
   "execution_count": 11,
   "id": "5997d420",
   "metadata": {},
   "outputs": [],
   "source": [
    "from Test_Module import Calculator"
   ]
  },
  {
   "cell_type": "code",
   "execution_count": 15,
   "id": "8db089ab",
   "metadata": {},
   "outputs": [
    {
     "data": {
      "text/plain": [
       "7"
      ]
     },
     "execution_count": 15,
     "metadata": {},
     "output_type": "execute_result"
    }
   ],
   "source": [
    "cal = Calculator()\n",
    "cal.set_data(1,6)\n",
    "cal.add()"
   ]
  },
  {
   "cell_type": "markdown",
   "id": "fe8292b1",
   "metadata": {},
   "source": [
    "# 09 Package\n",
    "- 패키지는 도트를 사용하여 파이썬 모듈을 계층적으로 관리할 수 있게 해준다."
   ]
  },
  {
   "cell_type": "code",
   "execution_count": null,
   "id": "bd8d7050",
   "metadata": {},
   "outputs": [],
   "source": []
  }
 ],
 "metadata": {
  "kernelspec": {
   "display_name": "Python 3",
   "language": "python",
   "name": "python3"
  },
  "language_info": {
   "codemirror_mode": {
    "name": "ipython",
    "version": 3
   },
   "file_extension": ".py",
   "mimetype": "text/x-python",
   "name": "python",
   "nbconvert_exporter": "python",
   "pygments_lexer": "ipython3",
   "version": "3.7.10"
  }
 },
 "nbformat": 4,
 "nbformat_minor": 5
}
