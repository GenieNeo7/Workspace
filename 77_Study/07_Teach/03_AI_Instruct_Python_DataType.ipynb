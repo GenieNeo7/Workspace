{
 "cells": [
  {
   "cell_type": "markdown",
   "id": "034395a8",
   "metadata": {},
   "source": [
    "# 1. 파이썬 자료형\n",
    "- type을 통해 데이터 체크 가능하다"
   ]
  },
  {
   "cell_type": "code",
   "execution_count": 5,
   "id": "05f0aab3",
   "metadata": {},
   "outputs": [
    {
     "data": {
      "text/plain": [
       "(int, str, bool)"
      ]
     },
     "execution_count": 5,
     "metadata": {},
     "output_type": "execute_result"
    }
   ],
   "source": [
    "a = 123\n",
    "b = 'hello'\n",
    "c = True\n",
    "\n",
    "type(a), type(b), type(c)"
   ]
  },
  {
   "cell_type": "markdown",
   "id": "ca6177b9",
   "metadata": {},
   "source": [
    "# 2. 문자열\n",
    "- 작은따옴표 또는 큰따옴표로 문자열 만들 수 있다 (string에 포함 되어 있는 ' 또는 \"에 따라 결정 할 수 있다)\n",
    "- 이스케이프문자(\\)를 사용하면 특수문자 입력 가능하다\n",
    "- \"\"\" 또는 '''을 통해 여러 줄 문자열 입력 가능하다. (\\n으로 표현보다 효과적이다))\n",
    "- \"\"\"\\을 하면 첫 문장의 줄 바꿈이 일어나지 않는다. (\"\"\"만 쓰면 첫줄은 무조건 뛰어진다)"
   ]
  },
  {
   "cell_type": "code",
   "execution_count": 12,
   "id": "d291627e",
   "metadata": {},
   "outputs": [
    {
     "name": "stdout",
     "output_type": "stream",
     "text": [
      "\"hello world\"\n",
      "\"hello world\"\n"
     ]
    }
   ],
   "source": [
    "test_str1 = '\"hello world\"'\n",
    "print(test_str1)\n",
    "\n",
    "test_str1 = \"\\\"hello world\\\"\"\n",
    "print(test_str1)"
   ]
  },
  {
   "cell_type": "markdown",
   "id": "57d6c0d3",
   "metadata": {},
   "source": [
    "# 3. 문자열 슬라이싱\n",
    "- 문자열이나 리스트 등의 데이터를 인덱스를 이용하여 가져올 수 있다.\n",
    "- 파이썬은 0부터 시작한다\n",
    "\n",
    "\n"
   ]
  },
  {
   "cell_type": "code",
   "execution_count": 16,
   "id": "9b128b6c",
   "metadata": {},
   "outputs": [
    {
     "name": "stdout",
     "output_type": "stream",
     "text": [
      "h\n",
      "d\n",
      "lo\n"
     ]
    }
   ],
   "source": [
    "str = \"hello world\"\n",
    "print(str[0]) # 가장 앞에 있는 h를 출력한다.\n",
    "print(str[-1]) # 뒤에서 부터 출력한다. (0은 +-하나 0이기 때문에 -1이 제일 뒤다)\n",
    "print(str[3:5])"
   ]
  },
  {
   "cell_type": "code",
   "execution_count": 18,
   "id": "153722a8",
   "metadata": {},
   "outputs": [
    {
     "data": {
      "text/plain": [
       "'eo'"
      ]
     },
     "execution_count": 18,
     "metadata": {},
     "output_type": "execute_result"
    }
   ],
   "source": []
  },
  {
   "cell_type": "markdown",
   "id": "4b3e707f",
   "metadata": {},
   "source": [
    "# 4. 숫자\n",
    "- python에서는 int형과 float 형이 존재한다.\n",
    "- 파이썬에서는 거의 구분이 필요 없지만, 문자열 선택 연산자 ([]) 등을 사용 할 때, 괄호 안에 넣는 숫자가 정수가 아니라 부동 소수점이면 오류가 발생할 수 있다"
   ]
  },
  {
   "cell_type": "markdown",
   "id": "3900aad9",
   "metadata": {},
   "source": [
    "## 4.1 연산자 우선순위"
   ]
  },
  {
   "cell_type": "code",
   "execution_count": 29,
   "id": "ede235d4",
   "metadata": {},
   "outputs": [
    {
     "name": "stdout",
     "output_type": "stream",
     "text": [
      "203.64705882352942\n"
     ]
    }
   ],
   "source": [
    "print(3462 / 17)"
   ]
  },
  {
   "cell_type": "markdown",
   "id": "ff7aefc0",
   "metadata": {},
   "source": [
    "# 5. 변수\n",
    "- 파이썬은 자료형 선언하지 않아도 된다.\n",
    "- 변수 선언\n",
    "- 변수에 값 할당\n",
    "- 변수 참조"
   ]
  },
  {
   "cell_type": "code",
   "execution_count": 31,
   "id": "4156c8e3",
   "metadata": {},
   "outputs": [
    {
     "name": "stdout",
     "output_type": "stream",
     "text": [
      "입력하세요test\n"
     ]
    }
   ],
   "source": [
    "input_str = input('입력하세요')"
   ]
  },
  {
   "cell_type": "code",
   "execution_count": 32,
   "id": "27f3dcb0",
   "metadata": {},
   "outputs": [
    {
     "data": {
      "text/plain": [
       "'test'"
      ]
     },
     "execution_count": 32,
     "metadata": {},
     "output_type": "execute_result"
    }
   ],
   "source": [
    "input_str"
   ]
  },
  {
   "cell_type": "code",
   "execution_count": 43,
   "id": "124b8975",
   "metadata": {},
   "outputs": [
    {
     "data": {
      "text/plain": [
       "str"
      ]
     },
     "execution_count": 43,
     "metadata": {},
     "output_type": "execute_result"
    }
   ],
   "source": [
    "data = \"52.273\"\n",
    "type(data)"
   ]
  },
  {
   "cell_type": "code",
   "execution_count": 45,
   "id": "4081130d",
   "metadata": {},
   "outputs": [
    {
     "data": {
      "text/plain": [
       "52.273"
      ]
     },
     "execution_count": 45,
     "metadata": {},
     "output_type": "execute_result"
    }
   ],
   "source": [
    "float(data)"
   ]
  },
  {
   "cell_type": "code",
   "execution_count": 48,
   "id": "077900db",
   "metadata": {},
   "outputs": [],
   "source": [
    "abc = 'abc'\n",
    "test_1 = \"data {}\".format(abc)"
   ]
  },
  {
   "cell_type": "code",
   "execution_count": 49,
   "id": "53cd614e",
   "metadata": {},
   "outputs": [
    {
     "data": {
      "text/plain": [
       "'data abc'"
      ]
     },
     "execution_count": 49,
     "metadata": {},
     "output_type": "execute_result"
    }
   ],
   "source": [
    "test_1"
   ]
  },
  {
   "cell_type": "code",
   "execution_count": 54,
   "id": "0f2ca847",
   "metadata": {},
   "outputs": [
    {
     "name": "stdout",
     "output_type": "stream",
     "text": [
      "test abc\n"
     ]
    }
   ],
   "source": [
    "print(f\"test {abc}\")"
   ]
  },
  {
   "cell_type": "markdown",
   "id": "1247e100",
   "metadata": {},
   "source": [
    "# 5.1 format \n",
    "- print 등에서 동적 데이터 입력\n",
    "\"test {}.format(variable_name) or f\"test {variable_name}\" 등으로 사용 가능하다\n",
    "- :d 정수형 :f 실수형, +015f # 15칸에 부호 추가하고 0으로 채우기, 15.1f 소숫점 한자리까지"
   ]
  },
  {
   "cell_type": "markdown",
   "id": "76bbb2c4",
   "metadata": {},
   "source": [
    "# 6. List\n",
    "- 가변형\n",
    "\n",
    "# 7. Tuble\n",
    "- immutable\n",
    "- 추가, 변경 불가하나 다른 튜플과 + *같은 것은 가능\n",
    "- 데이터 변경 불가\n",
    "\n",
    "# 8. Dictionary\n",
    "- json과 유사\n",
    "- key : value로 구성\n",
    "- dictionary에서는 데이터를 얻기 위해서는 key로만 접근해야 한다. (리스트나 튜플은 인덱스 가능)\n",
    "\n",
    "# 9. Set\n",
    "- 집합 연산 할 때 좋음\n",
    "- 중복 불허용 / 순서 없다\n",
    "\n",
    "|유형|변경|순서|중복|\n",
    "|---|---|---|---|\n",
    "|리스트|뮤터블|있음|가능|\n",
    "|튜플|이뮤터블|있음|가능|\n",
    "|딕셔너리|뮤터블|없음|키중복 불가|\n",
    "|셋|뮤터블|<span style=\"color:red\">없음</span>|불가|"
   ]
  },
  {
   "cell_type": "code",
   "execution_count": 61,
   "id": "9816b8ce",
   "metadata": {},
   "outputs": [],
   "source": [
    "a = [1,2,['a','b',['Life','is']]]"
   ]
  },
  {
   "cell_type": "code",
   "execution_count": 62,
   "id": "10340f3b",
   "metadata": {},
   "outputs": [
    {
     "data": {
      "text/plain": [
       "'Life'"
      ]
     },
     "execution_count": 62,
     "metadata": {},
     "output_type": "execute_result"
    }
   ],
   "source": [
    "a[-1][-1][0]"
   ]
  },
  {
   "cell_type": "code",
   "execution_count": 63,
   "id": "2ec3e815",
   "metadata": {},
   "outputs": [],
   "source": [
    "a = [1,2,3,4,5]"
   ]
  },
  {
   "cell_type": "code",
   "execution_count": 64,
   "id": "b53f3a41",
   "metadata": {},
   "outputs": [],
   "source": [
    "b = [4,5]\n",
    "c = a + b"
   ]
  },
  {
   "cell_type": "code",
   "execution_count": 65,
   "id": "f9afabc7",
   "metadata": {},
   "outputs": [
    {
     "data": {
      "text/plain": [
       "[1, 2, 3, 4, 5, 4, 5]"
      ]
     },
     "execution_count": 65,
     "metadata": {},
     "output_type": "execute_result"
    }
   ],
   "source": [
    "c"
   ]
  },
  {
   "cell_type": "code",
   "execution_count": 66,
   "id": "57b95adb",
   "metadata": {},
   "outputs": [],
   "source": [
    "t1 = (1,2,'a','b')"
   ]
  },
  {
   "cell_type": "code",
   "execution_count": 67,
   "id": "871a30f5",
   "metadata": {},
   "outputs": [],
   "source": [
    "t1 = t1+ t1"
   ]
  },
  {
   "cell_type": "code",
   "execution_count": 68,
   "id": "e0744e60",
   "metadata": {},
   "outputs": [
    {
     "data": {
      "text/plain": [
       "(1, 2, 'a', 'b', 1, 2, 'a', 'b')"
      ]
     },
     "execution_count": 68,
     "metadata": {},
     "output_type": "execute_result"
    }
   ],
   "source": [
    "t1"
   ]
  },
  {
   "cell_type": "code",
   "execution_count": 49,
   "id": "f7b48353",
   "metadata": {},
   "outputs": [],
   "source": [
    "dict_d = {1 : 'test', 2 : 'test2', '33e' : 't3'}"
   ]
  },
  {
   "cell_type": "code",
   "execution_count": 70,
   "id": "ec87f203",
   "metadata": {},
   "outputs": [],
   "source": [
    "tup = (1,1, 2,3,4,5,6)"
   ]
  },
  {
   "cell_type": "code",
   "execution_count": 71,
   "id": "9637131b",
   "metadata": {},
   "outputs": [
    {
     "data": {
      "text/plain": [
       "(1, 1, 2, 3, 4, 5, 6)"
      ]
     },
     "execution_count": 71,
     "metadata": {},
     "output_type": "execute_result"
    }
   ],
   "source": [
    "tup"
   ]
  },
  {
   "cell_type": "code",
   "execution_count": 88,
   "id": "af2317e3",
   "metadata": {},
   "outputs": [],
   "source": [
    "set_d = {1,1, 2,3,4,5}"
   ]
  },
  {
   "cell_type": "code",
   "execution_count": 89,
   "id": "8441f854",
   "metadata": {},
   "outputs": [],
   "source": [
    "c = set_d"
   ]
  },
  {
   "cell_type": "code",
   "execution_count": 78,
   "id": "6d0a740c",
   "metadata": {},
   "outputs": [
    {
     "data": {
      "text/plain": [
       "140572970582576"
      ]
     },
     "execution_count": 78,
     "metadata": {},
     "output_type": "execute_result"
    }
   ],
   "source": [
    "id(set_d)"
   ]
  },
  {
   "cell_type": "code",
   "execution_count": 80,
   "id": "bccc3be9",
   "metadata": {},
   "outputs": [
    {
     "data": {
      "text/plain": [
       "140572970582576"
      ]
     },
     "execution_count": 80,
     "metadata": {},
     "output_type": "execute_result"
    }
   ],
   "source": [
    "id(c)"
   ]
  },
  {
   "cell_type": "code",
   "execution_count": 83,
   "id": "d6a34917",
   "metadata": {},
   "outputs": [],
   "source": [
    "s = 'abc'"
   ]
  },
  {
   "cell_type": "code",
   "execution_count": 91,
   "id": "00a022b1",
   "metadata": {},
   "outputs": [
    {
     "data": {
      "text/plain": [
       "True"
      ]
     },
     "execution_count": 91,
     "metadata": {},
     "output_type": "execute_result"
    }
   ],
   "source": [
    "set_d is c"
   ]
  },
  {
   "cell_type": "code",
   "execution_count": 92,
   "id": "27014b57",
   "metadata": {},
   "outputs": [],
   "source": [
    "d = [80,75,55]"
   ]
  },
  {
   "cell_type": "code",
   "execution_count": 97,
   "id": "a638d663",
   "metadata": {},
   "outputs": [],
   "source": [
    "import numpy as np"
   ]
  },
  {
   "cell_type": "code",
   "execution_count": 98,
   "id": "f9ea734b",
   "metadata": {},
   "outputs": [
    {
     "data": {
      "text/plain": [
       "70.0"
      ]
     },
     "execution_count": 98,
     "metadata": {},
     "output_type": "execute_result"
    }
   ],
   "source": [
    "np.average(d)"
   ]
  },
  {
   "cell_type": "code",
   "execution_count": 99,
   "id": "926c9c86",
   "metadata": {},
   "outputs": [],
   "source": [
    "a = \"a:b:c:d\""
   ]
  },
  {
   "cell_type": "code",
   "execution_count": 100,
   "id": "0d8902e0",
   "metadata": {},
   "outputs": [
    {
     "data": {
      "text/plain": [
       "'a#b#c#d'"
      ]
     },
     "execution_count": 100,
     "metadata": {},
     "output_type": "execute_result"
    }
   ],
   "source": [
    "a.replace(':', '#')"
   ]
  },
  {
   "cell_type": "code",
   "execution_count": 101,
   "id": "f40044d0",
   "metadata": {},
   "outputs": [],
   "source": [
    "a = (1,2,3)"
   ]
  },
  {
   "cell_type": "code",
   "execution_count": 108,
   "id": "aa207068",
   "metadata": {},
   "outputs": [],
   "source": [
    "a += (4,)"
   ]
  },
  {
   "cell_type": "code",
   "execution_count": 109,
   "id": "5122ce89",
   "metadata": {},
   "outputs": [
    {
     "data": {
      "text/plain": [
       "(1, 2, 3, 4)"
      ]
     },
     "execution_count": 109,
     "metadata": {},
     "output_type": "execute_result"
    }
   ],
   "source": [
    "a"
   ]
  },
  {
   "cell_type": "code",
   "execution_count": 122,
   "id": "29a7934b",
   "metadata": {},
   "outputs": [
    {
     "name": "stdout",
     "output_type": "stream",
     "text": [
      "[1, 2, 3]\n"
     ]
    }
   ],
   "source": [
    "import copy\n",
    "a = [1,2,3]\n",
    "b = copy.deepcopy(a)\n",
    "a[1] = 4\n",
    "print(b)"
   ]
  },
  {
   "cell_type": "code",
   "execution_count": 123,
   "id": "992b8194",
   "metadata": {},
   "outputs": [
    {
     "data": {
      "text/plain": [
       "False"
      ]
     },
     "execution_count": 123,
     "metadata": {},
     "output_type": "execute_result"
    }
   ],
   "source": [
    "a is b"
   ]
  },
  {
   "cell_type": "code",
   "execution_count": null,
   "id": "b0555ed8",
   "metadata": {},
   "outputs": [],
   "source": []
  },
  {
   "cell_type": "code",
   "execution_count": null,
   "id": "084cb803",
   "metadata": {},
   "outputs": [],
   "source": []
  }
 ],
 "metadata": {
  "kernelspec": {
   "display_name": "Python 3",
   "language": "python",
   "name": "python3"
  },
  "language_info": {
   "codemirror_mode": {
    "name": "ipython",
    "version": 3
   },
   "file_extension": ".py",
   "mimetype": "text/x-python",
   "name": "python",
   "nbconvert_exporter": "python",
   "pygments_lexer": "ipython3",
   "version": "3.7.10"
  }
 },
 "nbformat": 4,
 "nbformat_minor": 5
}
