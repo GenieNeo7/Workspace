{
 "cells": [
  {
   "cell_type": "markdown",
   "id": "4fd4993f",
   "metadata": {},
   "source": [
    "# 07 Class\n",
    "- 클래스는 똑같은 무엇인가를 계속해서 맘ㄴ들어 낼 수 있는 것\n",
    "- 객체(Object)란 클래스로 만든 피조물\n",
    "- 파이썬에서는 자신 인스턴스를 의미하는 self가 특징적이다.\n",
    "- 클래스변수는 클래스 하위에 변수 지정 및 클래스명.var로접근하며, 객체 변수는 self.변수명으로 지정 및 접근 한다.\n",
    "> c언어는 클래스 없다. 파이썬에서 ML분야에서 클래스가 꼭 필요한 것은 아니다. Django 등 web framework에서는 많이 사용 된다."
   ]
  },
  {
   "cell_type": "code",
   "execution_count": 91,
   "id": "89fe2a84",
   "metadata": {},
   "outputs": [],
   "source": [
    "class Calculator:\n",
    "    class_var = 7\n",
    "    def __init__(self):\n",
    "        pass\n",
    "    \n",
    "    def set_data(self, a, b):\n",
    "        self.a = a\n",
    "        self.b = b\n",
    "        \n",
    "    def add(self):\n",
    "        return self.a + self.b"
   ]
  },
  {
   "cell_type": "code",
   "execution_count": 92,
   "id": "6fa239e7",
   "metadata": {},
   "outputs": [],
   "source": [
    "cal1 = Calculator()\n",
    "cal2 = Calculator()"
   ]
  },
  {
   "cell_type": "code",
   "execution_count": 93,
   "id": "d93a6459",
   "metadata": {},
   "outputs": [],
   "source": [
    "cal1.set_data(7,17)\n",
    "cal1.class_var = 10"
   ]
  },
  {
   "cell_type": "code",
   "execution_count": 94,
   "id": "28b5b3fd",
   "metadata": {},
   "outputs": [],
   "source": [
    "cal2.set_data(17,7)"
   ]
  },
  {
   "cell_type": "code",
   "execution_count": 97,
   "id": "ca835e04",
   "metadata": {},
   "outputs": [
    {
     "name": "stdout",
     "output_type": "stream",
     "text": [
      "7 17\n",
      "10 7 7\n"
     ]
    }
   ],
   "source": [
    "print(cal1.a, cal2.a)\n",
    "print(cal1.class_var, cal2.class_var, Calculator.class_var)"
   ]
  },
  {
   "cell_type": "code",
   "execution_count": 102,
   "id": "2252302e",
   "metadata": {},
   "outputs": [],
   "source": [
    "Calculator.class_var = 22"
   ]
  },
  {
   "cell_type": "code",
   "execution_count": 105,
   "id": "94d15d40",
   "metadata": {},
   "outputs": [
    {
     "data": {
      "text/plain": [
       "10"
      ]
     },
     "execution_count": 105,
     "metadata": {},
     "output_type": "execute_result"
    }
   ],
   "source": [
    "cal1.class_var"
   ]
  },
  {
   "cell_type": "code",
   "execution_count": null,
   "id": "85f21a25",
   "metadata": {},
   "outputs": [],
   "source": []
  }
 ],
 "metadata": {
  "kernelspec": {
   "display_name": "Python 3",
   "language": "python",
   "name": "python3"
  },
  "language_info": {
   "codemirror_mode": {
    "name": "ipython",
    "version": 3
   },
   "file_extension": ".py",
   "mimetype": "text/x-python",
   "name": "python",
   "nbconvert_exporter": "python",
   "pygments_lexer": "ipython3",
   "version": "3.7.10"
  }
 },
 "nbformat": 4,
 "nbformat_minor": 5
}
